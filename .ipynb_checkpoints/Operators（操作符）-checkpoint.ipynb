{
 "cells": [
  {
   "cell_type": "markdown",
   "metadata": {},
   "source": [
    "Liquid包括很多逻辑和比较运算符"
   ]
  },
  {
   "cell_type": "markdown",
   "metadata": {},
   "source": [
    "# Basic operators"
   ]
  },
  {
   "attachments": {},
   "cell_type": "markdown",
   "metadata": {},
   "source": [
    "![1560062362.jpg](./picture/1560062362.jpg)"
   ]
  },
  {
   "cell_type": "markdown",
   "metadata": {},
   "source": [
    "# 比如："
   ]
  },
  {
   "cell_type": "raw",
   "metadata": {},
   "source": [
    "{% if product.title == \"Awesome Shoes\" %}\n",
    "  These shoes are awesome!\n",
    "{% endif %}\n"
   ]
  },
  {
   "cell_type": "markdown",
   "metadata": {},
   "source": [
    "可以在标记中使用多个运算符："
   ]
  },
  {
   "cell_type": "raw",
   "metadata": {},
   "source": [
    "{% if product.type == \"Shirt\" or product.type == \"Shoes\" %}\n",
    "  This is a shirt or a pair of shoes.\n",
    "{% endif %}\n"
   ]
  },
  {
   "cell_type": "markdown",
   "metadata": {},
   "source": [
    "# contains"
   ]
  },
  {
   "cell_type": "markdown",
   "metadata": {},
   "source": [
    "`contains` 检查字符串中是否存在子字符串。"
   ]
  },
  {
   "cell_type": "raw",
   "metadata": {},
   "source": [
    "{% if product.title contains 'Pack' %}\n",
    "  This product's title contains the word Pack.\n",
    "{% endif %}"
   ]
  },
  {
   "cell_type": "markdown",
   "metadata": {},
   "source": [
    "`contains `还可以检查字符串数组中是否存在字符串。"
   ]
  },
  {
   "cell_type": "raw",
   "metadata": {},
   "source": [
    "{% if product.tags contains 'Hello' %}\n",
    "  This product has been tagged with 'Hello'.\n",
    "{% endif %}"
   ]
  },
  {
   "cell_type": "markdown",
   "metadata": {},
   "source": [
    "`contains` 只能搜索字符串。您不能使用它来检查对象数组中的对象。"
   ]
  },
  {
   "cell_type": "code",
   "execution_count": null,
   "metadata": {},
   "outputs": [],
   "source": []
  }
 ],
 "metadata": {
  "kernelspec": {
   "display_name": "Python 3",
   "language": "python",
   "name": "python3"
  },
  "language_info": {
   "codemirror_mode": {
    "name": "ipython",
    "version": 3
   },
   "file_extension": ".py",
   "mimetype": "text/x-python",
   "name": "python",
   "nbconvert_exporter": "python",
   "pygments_lexer": "ipython3",
   "version": "3.7.1"
  }
 },
 "nbformat": 4,
 "nbformat_minor": 2
}
