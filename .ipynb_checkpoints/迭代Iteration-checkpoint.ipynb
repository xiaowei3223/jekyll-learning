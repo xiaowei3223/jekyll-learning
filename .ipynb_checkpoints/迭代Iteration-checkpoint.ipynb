{
 "cells": [
  {
   "cell_type": "markdown",
   "metadata": {},
   "source": [
    "# 迭代 Iteration"
   ]
  },
  {
   "cell_type": "markdown",
   "metadata": {},
   "source": [
    "Iteration标签重复运行代码块。"
   ]
  },
  {
   "cell_type": "markdown",
   "metadata": {},
   "source": [
    "## For"
   ]
  },
  {
   "cell_type": "markdown",
   "metadata": {},
   "source": [
    "重复执行一段代码。有关for循环中可用属性的完整列表，请参阅[forloop（object）](https://help.shopify.com/en/themes/liquid/objects/for-loops)"
   ]
  },
  {
   "cell_type": "markdown",
   "metadata": {},
   "source": [
    "###### Input"
   ]
  },
  {
   "cell_type": "raw",
   "metadata": {},
   "source": [
    "  {% for product in collection.products %}\n",
    "    {{ product.title }}\n",
    "  {% endfor %}"
   ]
  },
  {
   "cell_type": "markdown",
   "metadata": {},
   "source": [
    "###### Output"
   ]
  },
  {
   "cell_type": "markdown",
   "metadata": {},
   "source": [
    "hat shirt pants"
   ]
  },
  {
   "cell_type": "markdown",
   "metadata": {},
   "source": [
    "## Break"
   ]
  },
  {
   "cell_type": "markdown",
   "metadata": {},
   "source": [
    "导致循环在遇到break标记时停止迭代。"
   ]
  },
  {
   "cell_type": "markdown",
   "metadata": {},
   "source": [
    "###### Input"
   ]
  },
  {
   "cell_type": "raw",
   "metadata": {},
   "source": [
    "{% for i in (1..5) %}\n",
    "  {% if i == 4 %}\n",
    "    {% break %}\n",
    "  {% else %}\n",
    "    {{ i }}\n",
    "  {% endif %}\n",
    "{% endfor %}"
   ]
  },
  {
   "cell_type": "markdown",
   "metadata": {},
   "source": [
    "###### Output"
   ]
  },
  {
   "cell_type": "raw",
   "metadata": {},
   "source": [
    "1 2 3"
   ]
  },
  {
   "cell_type": "markdown",
   "metadata": {},
   "source": [
    "## continue"
   ]
  },
  {
   "cell_type": "markdown",
   "metadata": {},
   "source": [
    "导致循环在遇到continue标记时跳过当前迭代。"
   ]
  },
  {
   "cell_type": "markdown",
   "metadata": {},
   "source": [
    "###### input"
   ]
  },
  {
   "cell_type": "raw",
   "metadata": {},
   "source": [
    "{% for i in (1..5) %}\n",
    "  {% if i == 4 %}\n",
    "    {% continue %}\n",
    "  {% else %}\n",
    "    {{ i }}\n",
    "  {% endif %}\n",
    "{% endfor %}"
   ]
  },
  {
   "cell_type": "markdown",
   "metadata": {},
   "source": [
    "###### Output"
   ]
  },
  {
   "cell_type": "raw",
   "metadata": {},
   "source": [
    "1 2 3  5"
   ]
  },
  {
   "cell_type": "markdown",
   "metadata": {},
   "source": [
    "# For (参数)"
   ]
  },
  {
   "cell_type": "markdown",
   "metadata": {},
   "source": [
    "## limit"
   ]
  },
  {
   "cell_type": "markdown",
   "metadata": {},
   "source": [
    "将循环限制为指定的迭代次数。"
   ]
  },
  {
   "cell_type": "markdown",
   "metadata": {},
   "source": [
    "###### Input"
   ]
  },
  {
   "cell_type": "raw",
   "metadata": {},
   "source": [
    "<!-- if array = [1,2,3,4,5,6] -->\n",
    "{% for item in array limit:2 %}\n",
    "  {{ item }}\n",
    "{% endfor %}"
   ]
  },
  {
   "cell_type": "markdown",
   "metadata": {},
   "source": [
    "###### Output"
   ]
  },
  {
   "cell_type": "raw",
   "metadata": {},
   "source": [
    "1  2"
   ]
  },
  {
   "cell_type": "markdown",
   "metadata": {},
   "source": [
    "## offset"
   ]
  },
  {
   "cell_type": "markdown",
   "metadata": {},
   "source": [
    "在指定的索引处开始循环。"
   ]
  },
  {
   "cell_type": "markdown",
   "metadata": {},
   "source": [
    "###### Input"
   ]
  },
  {
   "cell_type": "raw",
   "metadata": {},
   "source": [
    "<!-- if array = [1,2,3,4,5,6] -->\n",
    "{% for item in array offset:2 %}\n",
    "  {{ item }}\n",
    "{% endfor %}"
   ]
  },
  {
   "cell_type": "markdown",
   "metadata": {},
   "source": [
    "###### Output"
   ]
  },
  {
   "cell_type": "raw",
   "metadata": {},
   "source": [
    "3  4  5  6"
   ]
  },
  {
   "cell_type": "markdown",
   "metadata": {},
   "source": [
    "## range"
   ]
  },
  {
   "cell_type": "markdown",
   "metadata": {},
   "source": [
    "定义要循环的数字范围。范围可以由文字和可变数字定义。"
   ]
  },
  {
   "cell_type": "markdown",
   "metadata": {},
   "source": [
    "###### Input"
   ]
  },
  {
   "cell_type": "raw",
   "metadata": {},
   "source": [
    "{% for i in (3..5) %}\n",
    "  {{ i }}\n",
    "{% endfor %}\n",
    "\n",
    "{% assign num = 4 %}\n",
    "{% for i in (1..num) %}\n",
    "  {{ i }}\n",
    "{% endfor %}"
   ]
  },
  {
   "cell_type": "markdown",
   "metadata": {},
   "source": [
    "###### Output"
   ]
  },
  {
   "cell_type": "raw",
   "metadata": {},
   "source": [
    "3 4 5 \n",
    "1 2 3 4"
   ]
  },
  {
   "cell_type": "markdown",
   "metadata": {},
   "source": [
    "## reverse"
   ]
  },
  {
   "cell_type": "markdown",
   "metadata": {},
   "source": [
    "反转循环的顺序。请注意，标志的拼写与过滤器`reverse`不同"
   ]
  },
  {
   "cell_type": "markdown",
   "metadata": {},
   "source": [
    "###### Input"
   ]
  },
  {
   "cell_type": "raw",
   "metadata": {},
   "source": [
    "<!-- if array = [1,2,3,4,5,6] -->\n",
    "{% for item in array reversed %}\n",
    "  {{ item }}\n",
    "{% endfor %}"
   ]
  },
  {
   "cell_type": "markdown",
   "metadata": {},
   "source": [
    "###### Output "
   ]
  },
  {
   "cell_type": "raw",
   "metadata": {},
   "source": [
    "6 5 4 3 2 1"
   ]
  },
  {
   "cell_type": "markdown",
   "metadata": {},
   "source": [
    "## cycle\n"
   ]
  },
  {
   "cell_type": "markdown",
   "metadata": {},
   "source": [
    "循环遍历一组字符串，并按照它们作为参数传递的顺序输出它们。每次cycle调用时，都会输出作为参数传递的下一个字符串。\n",
    "\n",
    "`cycle`必须在`for`循环块中使用。"
   ]
  },
  {
   "cell_type": "markdown",
   "metadata": {},
   "source": [
    "###### Input"
   ]
  },
  {
   "cell_type": "raw",
   "metadata": {},
   "source": [
    "{% cycle 'one', 'two', 'three' %}\n",
    "{% cycle 'one', 'two', 'three' %}\n",
    "{% cycle 'one', 'two', 'three' %}\n",
    "{% cycle 'one', 'two', 'three' %}"
   ]
  },
  {
   "cell_type": "markdown",
   "metadata": {},
   "source": [
    "###### Output"
   ]
  },
  {
   "cell_type": "raw",
   "metadata": {},
   "source": [
    "one\n",
    "two\n",
    "three\n",
    "one"
   ]
  },
  {
   "cell_type": "markdown",
   "metadata": {},
   "source": [
    "`cycle`用途包括：\n",
    "\n",
    "     将奇数/偶数类应用于表中的行\n",
    "    将唯一类应用于连续的最后一个产品缩略图   "
   ]
  },
  {
   "cell_type": "markdown",
   "metadata": {},
   "source": [
    "# cycle (参数)\n"
   ]
  },
  {
   "cell_type": "markdown",
   "metadata": {},
   "source": [
    "cycle接受在一个模板中cycle group需要多个cycle块的情况下调用的参数。如果没有为循环组提供名称，则假定具有相同参数的多个调用是一个组。"
   ]
  },
  {
   "cell_type": "markdown",
   "metadata": {},
   "source": [
    "## tablerow"
   ]
  },
  {
   "cell_type": "markdown",
   "metadata": {},
   "source": [
    "生成HTML表格。必须包含在打开`<table>`和关闭`</table>`HTML标记中。"
   ]
  },
  {
   "cell_type": "markdown",
   "metadata": {},
   "source": [
    "###### Input"
   ]
  },
  {
   "cell_type": "raw",
   "metadata": {},
   "source": [
    "<table>\n",
    "{% tablerow product in collection.products %}\n",
    "  {{ product.title }}\n",
    "{% endtablerow %}\n",
    "</table>"
   ]
  },
  {
   "cell_type": "markdown",
   "metadata": {},
   "source": [
    "###### Output"
   ]
  },
  {
   "cell_type": "raw",
   "metadata": {},
   "source": [
    "<table>\n",
    "  <tr class=\"row1\">\n",
    "    <td class=\"col1\">\n",
    "      Cool Shirt\n",
    "    </td>\n",
    "    <td class=\"col2\">\n",
    "      Alien Poster\n",
    "    </td>\n",
    "    <td class=\"col3\">\n",
    "      Batman Poster\n",
    "    </td>\n",
    "    <td class=\"col4\">\n",
    "      Bullseye Shirt\n",
    "    </td>\n",
    "    <td class=\"col5\">\n",
    "      Another Classic Vinyl\n",
    "    </td>\n",
    "    <td class=\"col6\">\n",
    "      Awesome Jeans\n",
    "    </td>\n",
    "  </tr>\n",
    "</table>"
   ]
  },
  {
   "cell_type": "markdown",
   "metadata": {},
   "source": [
    "## tablerow (参数)"
   ]
  },
  {
   "cell_type": "markdown",
   "metadata": {},
   "source": [
    "### cols"
   ]
  },
  {
   "cell_type": "markdown",
   "metadata": {},
   "source": [
    "定义表应该有多少列。"
   ]
  },
  {
   "cell_type": "markdown",
   "metadata": {},
   "source": [
    "###### Input"
   ]
  },
  {
   "cell_type": "raw",
   "metadata": {},
   "source": [
    "{% tablerow product in collection.products cols:2 %}\n",
    "  {{ product.title }}\n",
    "{% endtablerow %}\n"
   ]
  },
  {
   "cell_type": "markdown",
   "metadata": {},
   "source": [
    "###### Output"
   ]
  },
  {
   "cell_type": "raw",
   "metadata": {},
   "source": [
    "<table>\n",
    "  <tr class=\"row1\">\n",
    "    <td class=\"col1\">\n",
    "      Cool Shirt\n",
    "    </td>\n",
    "    <td class=\"col2\">\n",
    "      Alien Poster\n",
    "    </td>\n",
    "  </tr>\n",
    "  <tr class=\"row2\">\n",
    "    <td class=\"col1\">\n",
    "      Batman Poster\n",
    "    </td>\n",
    "    <td class=\"col2\">\n",
    "      Bullseye Shirt\n",
    "    </td>\n",
    "  </tr>\n",
    "  <tr class=\"row3\">\n",
    "    <td class=\"col1\">\n",
    "      Another Classic Vinyl\n",
    "    </td>\n",
    "    <td class=\"col2\">\n",
    "      Awesome Jeans\n",
    "    </td>\n",
    "  </tr>\n",
    "</table>"
   ]
  },
  {
   "cell_type": "markdown",
   "metadata": {},
   "source": [
    "### limit"
   ]
  },
  {
   "cell_type": "markdown",
   "metadata": {},
   "source": [
    "在特定索引之后退出tablerow。"
   ]
  },
  {
   "cell_type": "raw",
   "metadata": {},
   "source": [
    "{% tablerow product in collection.products cols:2 limit:3 %}\n",
    "  {{ product.title }}\n",
    "{% endtablerow %}"
   ]
  },
  {
   "cell_type": "markdown",
   "metadata": {},
   "source": [
    "### offset"
   ]
  },
  {
   "cell_type": "markdown",
   "metadata": {},
   "source": [
    "在特定索引之后启动tablerow。"
   ]
  },
  {
   "cell_type": "raw",
   "metadata": {},
   "source": [
    "{% tablerow product in collection.products cols:2 offset:3 %}\n",
    "  {{ product.title }}\n",
    "{% endtablerow %}"
   ]
  },
  {
   "cell_type": "markdown",
   "metadata": {},
   "source": [
    "### range"
   ]
  },
  {
   "cell_type": "markdown",
   "metadata": {},
   "source": [
    "定义要循环的数字范围。范围可以由文字和可变数字定义。"
   ]
  },
  {
   "cell_type": "raw",
   "metadata": {},
   "source": [
    "<!--variable number example-->\n",
    "\n",
    "{% assign num = 4 %}\n",
    "<table>\n",
    "{% tablerow i in (1..num) %}\n",
    "  {{ i }}\n",
    "{% endtablerow %}\n",
    "</table>\n",
    "\n",
    "<!--literal number example-->\n",
    "\n",
    "<table>\n",
    "{% tablerow i in (3..5) %}\n",
    "  {{ i }}\n",
    "{% endtablerow %}\n",
    "</table>\n"
   ]
  },
  {
   "cell_type": "code",
   "execution_count": null,
   "metadata": {},
   "outputs": [],
   "source": []
  }
 ],
 "metadata": {
  "kernelspec": {
   "display_name": "Python 3",
   "language": "python",
   "name": "python3"
  },
  "language_info": {
   "codemirror_mode": {
    "name": "ipython",
    "version": 3
   },
   "file_extension": ".py",
   "mimetype": "text/x-python",
   "name": "python",
   "nbconvert_exporter": "python",
   "pygments_lexer": "ipython3",
   "version": "3.7.1"
  }
 },
 "nbformat": 4,
 "nbformat_minor": 2
}
