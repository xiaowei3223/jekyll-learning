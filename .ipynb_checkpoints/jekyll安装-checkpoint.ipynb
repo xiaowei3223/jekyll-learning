{
 "cells": [
  {
   "cell_type": "markdown",
   "metadata": {},
   "source": [
    "# 下载[RubyInstaller](https://rubyinstaller.org/downloads/)"
   ]
  },
  {
   "cell_type": "markdown",
   "metadata": {},
   "source": [
    "# 安装ruby"
   ]
  },
  {
   "cell_type": "markdown",
   "metadata": {},
   "source": [
    "打开windows的命令界面（win+R），输入`ruby -v` 检查是否正确安装ruby，会出现版本号，图片如下：\n",
    "![1559963402(1).jpg](./picture/1559963402(1).jpg)\n",
    "\n"
   ]
  },
  {
   "cell_type": "markdown",
   "metadata": {},
   "source": [
    "# 安装jekyll"
   ]
  },
  {
   "cell_type": "markdown",
   "metadata": {},
   "source": [
    "输入`gem -v` 检查是否安装gem\n",
    "\n",
    "输入`gem install jekyll bundle`安装jekyll\n",
    "\n",
    "最后输入`jekyll -v`确认是否安装成功jekyll"
   ]
  },
  {
   "cell_type": "markdown",
   "metadata": {},
   "source": [
    "# jekyll 指令：\n"
   ]
  },
  {
   "cell_type": "markdown",
   "metadata": {},
   "source": [
    "`jekyll new` - 使用基于 gem 的默认主题创建一个全新的站点\n",
    "\n",
    "`jekyll new --blank` - 创建一个全新的空的 Jekyll 站点脚手架\n",
    "\n",
    "`jekyll build` 或 `jekyll b` - 执行一次构建，并将生成的站点输出到 ./_site （默认） 目录\n",
    "\n",
    "`jekyll serve` 或 `jekyll s` - 在源文件更改时构建站点并提供本地访问服务\n",
    "\n",
    "`jekyll doctor` - 输出任何不推荐功能或配置方面的问题\n",
    "\n",
    "`jekyll new-theme` - 创建一个全新的 Jekyll 主题脚手架\n",
    "\n",
    "`jekyll clean` - 删除生成的站点和元数据文件\n",
    "\n",
    "`jekyll help` - 显示帮助信息，也可以针对特定子命令显示帮助信息，例如 `jekyll help build`\n",
    "\n",
    "通常在本地开发时使用`jekyll serve` 命令； `jekyll build` 命令用来为生产环境构建站点。"
   ]
  },
  {
   "cell_type": "markdown",
   "metadata": {},
   "source": [
    "# 安装Rdiscount"
   ]
  },
  {
   "cell_type": "markdown",
   "metadata": {},
   "source": [
    "安装Rdiscount，Jekyll默认的markdown解析器maruku对中文支持不够完善,所以果断换成RDiscount解析器\n",
    "\n",
    "输入 `gem install rdiscount`"
   ]
  },
  {
   "cell_type": "markdown",
   "metadata": {},
   "source": [
    "# 创建一个全新的Jekyll网站"
   ]
  },
  {
   "cell_type": "markdown",
   "metadata": {},
   "source": [
    "输入 `cd 目录` ,目录是你自己想要的建网站的目录，\n",
    "\n",
    "然后输入`jekyll new mybolg`\n",
    "\n",
    "转到这个myblog目录下\n",
    "`cd myblog`\n",
    "\n",
    "构建网站并启动一个本地web服务\n",
    "`bundle exec jekyll serve`\n",
    "\n",
    "在浏览器中打开网址http://localhost:4000"
   ]
  },
  {
   "cell_type": "code",
   "execution_count": null,
   "metadata": {},
   "outputs": [],
   "source": []
  }
 ],
 "metadata": {
  "kernelspec": {
   "display_name": "R",
   "language": "R",
   "name": "ir"
  },
  "language_info": {
   "codemirror_mode": "r",
   "file_extension": ".r",
   "mimetype": "text/x-r-source",
   "name": "R",
   "pygments_lexer": "r",
   "version": "3.5.3"
  }
 },
 "nbformat": 4,
 "nbformat_minor": 2
}
