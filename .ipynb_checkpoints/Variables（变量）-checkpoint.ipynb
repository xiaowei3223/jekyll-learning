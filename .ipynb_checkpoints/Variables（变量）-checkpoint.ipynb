{
 "cells": [
  {
   "cell_type": "markdown",
   "metadata": {},
   "source": [
    "https://jekyllrb.com/docs/variables/"
   ]
  },
  {
   "cell_type": "markdown",
   "metadata": {},
   "source": [
    "# Global Variables （全局变量）"
   ]
  },
  {
   "cell_type": "markdown",
   "metadata": {},
   "source": [
    "`site` 网站范围信息+配置设置\n",
    "\n",
    "`page` 页面特定信息+ front matter\n",
    "\n",
    "`layout` 网页布局特定信息 + front matter\n",
    "\n",
    "`content`  在layout文件中，Post或者Page需要呈现的内容，但是没有在Post或者Page当中定义的。\n",
    "\n",
    "`paginator` paginate配置选项已经设置（在config的文件中设置），这个变量就可以使用了。详细请看https://jekyllrb.com/docs/pagination/ 其实就是标记页数\n"
   ]
  },
  {
   "cell_type": "markdown",
   "metadata": {},
   "source": [
    "# Site Variable (站点变量)"
   ]
  },
  {
   "cell_type": "markdown",
   "metadata": {},
   "source": [
    "`site.name` 运行jekyll命令的当前时间\n",
    "\n",
    "`site.pages` 所有页面的列表\n",
    "\n",
    "`site.posts` 所有帖子的方向时间顺序列表\n",
    "\n",
    "`site.re;ated_posts` 如果正在处理的页面是Post（帖子），但是其中包含其他相关的帖子（最多可以包含10个）。对于高质量但计算出结果会比较慢的情况下，运行`jekyll`命令 `--lsi` 选项的运行命令。**但是需要注意的是：github的网页 `lis`在生成网站时是不支持该选项的**\n",
    "\n",
    "`site.static_files`  所有静态文件（static files）的列表（即未由Jekyll的转换器或Liquid渲染处理的文件）。每个文件有5个属性：`path` `modified_time`、 `name`  、`basename` 、`extname`\n",
    "\n",
    "`site.html_pages`  `site.pages`的一个子集，列出以`.html`结尾的那些\n",
    "\n",
    "`sit.html_files`   \t`site.static_files`的一个子集，列出以`.html`结尾的那些。\n",
    "\n",
    "`site.collections`  所有馆藏（包括帖子）的列表。\n",
    "\n",
    "`site.data`  包含从位于_data目录中的YAML文件加载的数据的列表。\n",
    "\n",
    "`site.documents`  每个集合中所有文档的列表\n",
    "\n",
    "`site.categories.CATEGORY`  类别中所有帖子的列表·`CATEGORY`。\n",
    "\n",
    "`site.tags.TAG`  带标签的所有帖子的列表`TAG`。\n",
    "\n",
    "`site.url`  包含您在网站中配置的网站网址_config.yml。例如，如果您url: http://mysite.com 在配置文件中，则可以在Liquid中利用site.url访问它。对于开发环境有一个例外，如果你正在运行`jekyll serve`在开发环境`site.url`将被设置的值`host`，`port`以及SSL相关的选项。默认为url: http://localhost:4000。\n",
    "\n",
    "`site.[CONFIGURATION_DATA]`  通过命令行设置的所有变量`_config.yml`都可以通过`site`变量获得。例如，如果您`foo: bar`在配置文件中，则可以在Liquid中访问它`site.foo`。到jekyll不分析变化`_config.yml`的`watch`模式，你必须重新启动杰基尔看到变化的变量。"
   ]
  },
  {
   "cell_type": "markdown",
   "metadata": {},
   "source": [
    "# page Variables （页面变量）"
   ]
  },
  {
   "cell_type": "markdown",
   "metadata": {},
   "source": [
    "`page.content`  页面的内容,呈现或未呈现取决于正在处理的Liquid和page的内容是什么\n",
    "\n",
    "`page.title`  页面的标题\n",
    "\n",
    "`page.excerpt` 未呈现的文档摘录\n",
    "\n",
    "`page.url` 没有域的帖子的URL，但带有前导斜杠，例如`/2008/12/14/my-post.html`\n",
    "\n",
    "`page.date`  分配给帖子的日期。这可以通过在格式中指定新的日期/时间YYYY-MM-DD HH:MM:SS（假设为UTC），或者YYYY-MM-DD HH:MM:SS +/-TTTT（使用与UTC的偏移量指定时区，例如2008-12-14 10:30:00 +0900）来在Post的前端内容中覆盖。\n",
    "\n",
    "`page.id` Collection或Post中文档的唯一标识符（在RSS提要中很有用）。例如`/2008/12/14/my-post`、`/my-collection/my-document`\n",
    "\n",
    "`page.categories`  此帖子所属的类别列表。类别从目录上方的_posts目录结构派生。例如，帖子at `/work/code/_posts/2008-12-24-closures.md`将此字段设置为`['work', 'code']`。这些也可以在前面的内容中指定。\n",
    "\n",
    "`page.collection`  此文档所属的集合的标签。例如`posts`，邮寄或`puppies`路径文件`_puppies/rover.md`。如果不是集合的一部分，则返回空字符串。\n",
    "\n",
    "`page.tags`   此帖子所属的标记列表。这些可以在front matter中指定。\n",
    "\n",
    "`page.dir`  源目录与帖子或页面文件之间的路径，例如/pages/。这可以permalink在`front matter`中被覆盖。\n",
    "\n",
    "`page.name` 帖子或页面的文件名，例如 `about.md`\n",
    "\n",
    "`page.path` 原始帖子或页面的路径。用法示例：在GitHub上链接回页面或帖子的源代码。这可以在`front matter`中被覆盖。\n",
    "\n",
    "`page.next` 下一篇文章相对于当前帖子的位置`site.posts`。nil最后一个条目的返回值。\n",
    "\n",
    "`page.previous` 上一篇文章相对于当前帖子的位置`site.posts`。nil第一个条目的返回值。"
   ]
  },
  {
   "cell_type": "markdown",
   "metadata": {},
   "source": [
    "\n",
    "##  使用自定义Front matter"
   ]
  },
  {
   "cell_type": "markdown",
   "metadata": {},
   "source": [
    "**任何自定义的front matter都要在`page`中适用。比如：在page的`front matter`中指了： `custom_css: true` ,那么这个值在 `page.custom_css`就应该要适用。**\n",
    "\n",
    "**如果您在布局中指定front matter，layout中也应该适用。例如，如果`class: full_page`在layout的front matter中指定，则该值将`layout.class`在layout及其父级中可用。**\n"
   ]
  },
  {
   "cell_type": "markdown",
   "metadata": {},
   "source": [
    "# Paginator (分页器)"
   ]
  },
  {
   "cell_type": "markdown",
   "metadata": {},
   "source": [
    "`paginator.page`  当前页面的编号\n",
    "\n",
    "`paginator.per_page` 每页的帖子数量\n",
    "\n",
    "`paginator.posts` 可用于当前页面的帖子\n",
    "\n",
    "`paginator.total_posts` 帖子总数\n",
    "\n",
    "`paginator.total_pages` 总页数\n",
    "\n",
    "`paginator.previous_page` 上一页的编号，或者nil如果不存在上一页\n",
    "\n",
    "`paginator.previous_page_path`  前一页的路径，或者nil如果不存在上一页\n",
    "\n",
    "`paginator.next_page` 下一页的编号，或者nil如果不存在后续页面\n",
    "\n",
    "`paginator.next_page_path` 下一页的路径，或者nil如果不存在后续页面"
   ]
  },
  {
   "cell_type": "code",
   "execution_count": null,
   "metadata": {},
   "outputs": [],
   "source": []
  }
 ],
 "metadata": {
  "kernelspec": {
   "display_name": "Python 3",
   "language": "python",
   "name": "python3"
  },
  "language_info": {
   "codemirror_mode": {
    "name": "ipython",
    "version": 3
   },
   "file_extension": ".py",
   "mimetype": "text/x-python",
   "name": "python",
   "nbconvert_exporter": "python",
   "pygments_lexer": "ipython3",
   "version": "3.7.1"
  },
  "toc": {
   "base_numbering": 1,
   "nav_menu": {},
   "number_sections": true,
   "sideBar": true,
   "skip_h1_title": false,
   "title_cell": "Table of Contents",
   "title_sidebar": "Contents",
   "toc_cell": false,
   "toc_position": {},
   "toc_section_display": true,
   "toc_window_display": false
  }
 },
 "nbformat": 4,
 "nbformat_minor": 2
}
