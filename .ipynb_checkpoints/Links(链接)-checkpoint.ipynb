{
 "cells": [
  {
   "cell_type": "markdown",
   "metadata": {},
   "source": [
    "# Linking to pages"
   ]
  },
  {
   "cell_type": "markdown",
   "metadata": {},
   "source": [
    "为了链接到post、网页，collection item，或者一个文件，`link`标签会根据指定路径产生一个正确的永久链接URL。\n",
    "\n",
    "比如，你用`link`来链接`mypage.html`，即使你改变包含这份文件扩展的永久链接样式或忽视它。URL仍然有效。\n",
    "\n",
    " For example, if you use the `link` tag to link to `mypage.htm`l, even if you change your permalink style to include the file extension or omit it, the URL formed by the `link` tag will always be valid."
   ]
  },
  {
   "cell_type": "markdown",
   "metadata": {},
   "source": [
    "**使用`link`标签的例子：**"
   ]
  },
  {
   "cell_type": "raw",
   "metadata": {},
   "source": [
    "{% link _collection/name-of-document.md %}\n",
    "{% link _posts/2016-07-26-name-of-post.md %}\n",
    "{% link news/index.html %}\n",
    "{% link /assets/files/doc.pdf %}"
   ]
  },
  {
   "cell_type": "markdown",
   "metadata": {},
   "source": [
    "**在markdown中使用`link`：**"
   ]
  },
  {
   "cell_type": "raw",
   "metadata": {},
   "source": [
    "[Link to a document]({% link _collection/name-of-document.md %})\n",
    "[Link to a post]({% link _posts/2016-07-26-name-of-post.md %})\n",
    "[Link to a page]({% link news/index.html %})\n",
    "[Link to a file]({% link /assets/files/doc.pdf %})"
   ]
  },
  {
   "cell_type": "markdown",
   "metadata": {},
   "source": [
    "路径是从根目录开始的"
   ]
  },
  {
   "cell_type": "markdown",
   "metadata": {},
   "source": [
    "如果不想使用路径，用`{{page.path}}`，同样可以显示路径"
   ]
  },
  {
   "cell_type": "markdown",
   "metadata": {},
   "source": [
    "在链接中使用最多的是`link`和`post_url`标签。如果链接不存在，jekyll不会产生网址。\n",
    "\n",
    "**注意，不能在`link`标签上增加过滤器**"
   ]
  },
  {
   "cell_type": "code",
   "execution_count": null,
   "metadata": {},
   "outputs": [],
   "source": []
  }
 ],
 "metadata": {
  "kernelspec": {
   "display_name": "Python 3",
   "language": "python",
   "name": "python3"
  },
  "language_info": {
   "codemirror_mode": {
    "name": "ipython",
    "version": 3
   },
   "file_extension": ".py",
   "mimetype": "text/x-python",
   "name": "python",
   "nbconvert_exporter": "python",
   "pygments_lexer": "ipython3",
   "version": "3.7.1"
  },
  "toc": {
   "base_numbering": 1,
   "nav_menu": {},
   "number_sections": true,
   "sideBar": true,
   "skip_h1_title": false,
   "title_cell": "Table of Contents",
   "title_sidebar": "Contents",
   "toc_cell": false,
   "toc_position": {},
   "toc_section_display": true,
   "toc_window_display": false
  }
 },
 "nbformat": 4,
 "nbformat_minor": 2
}
