{
 "cells": [
  {
   "cell_type": "markdown",
   "metadata": {},
   "source": [
    "在编程中，`true`在条件中返回的任何东西都称为**truthy**。`false`在条件中返回的任何东西都称为**falsy**。所有对象类型都可以描述为truthy或falsy。"
   ]
  },
  {
   "cell_type": "markdown",
   "metadata": {},
   "source": [
    "# Truthy"
   ]
  },
  {
   "cell_type": "markdown",
   "metadata": {},
   "source": [
    "Liquid中的所有值都是真实的，除了`nil`和`false`。"
   ]
  },
  {
   "cell_type": "markdown",
   "metadata": {},
   "source": [
    "在下面的示例中，字符串“Tobi”不是布尔值，但它在条件中是真实的："
   ]
  },
  {
   "cell_type": "raw",
   "metadata": {},
   "source": [
    "{% assign tobi = \"Tobi\" %}\n",
    "\n",
    "{% if tobi %}\n",
    "  This condition will always be true.\n",
    "{% endif %}\n"
   ]
  },
  {
   "cell_type": "markdown",
   "metadata": {},
   "source": [
    "字符串，即使是空的，也是真实的。如果`settings.fp_heading`为空，下面的示例将导致空HTML标记："
   ]
  },
  {
   "cell_type": "markdown",
   "metadata": {},
   "source": [
    "###### input"
   ]
  },
  {
   "cell_type": "raw",
   "metadata": {},
   "source": [
    "{% if settings.fp_heading %}\n",
    "  <h1>{{ settings.fp_heading }}</h1>\n",
    "{% endif %}\n"
   ]
  },
  {
   "cell_type": "markdown",
   "metadata": {},
   "source": [
    "###### Output"
   ]
  },
  {
   "cell_type": "raw",
   "metadata": {},
   "source": [
    "<h1></h1>"
   ]
  },
  {
   "cell_type": "markdown",
   "metadata": {},
   "source": [
    "# Falsy"
   ]
  },
  {
   "cell_type": "markdown",
   "metadata": {},
   "source": [
    "Liquid中的虚假值是nil和false。"
   ]
  },
  {
   "cell_type": "markdown",
   "metadata": {},
   "source": [
    "![1560063030(1).jpg](./picture/1560063030(1).jpg)"
   ]
  },
  {
   "cell_type": "code",
   "execution_count": null,
   "metadata": {},
   "outputs": [],
   "source": []
  }
 ],
 "metadata": {
  "kernelspec": {
   "display_name": "Python 3",
   "language": "python",
   "name": "python3"
  },
  "language_info": {
   "codemirror_mode": {
    "name": "ipython",
    "version": 3
   },
   "file_extension": ".py",
   "mimetype": "text/x-python",
   "name": "python",
   "nbconvert_exporter": "python",
   "pygments_lexer": "ipython3",
   "version": "3.7.1"
  }
 },
 "nbformat": 4,
 "nbformat_minor": 2
}
