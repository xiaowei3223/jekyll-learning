{
 "cells": [
  {
   "cell_type": "markdown",
   "metadata": {},
   "source": [
    "`include`标签可以输入另一存储在`_includes`文件夹的文件内容："
   ]
  },
  {
   "cell_type": "raw",
   "metadata": {},
   "source": [
    "{% include footer.html %}"
   ]
  },
  {
   "cell_type": "markdown",
   "metadata": {},
   "source": [
    "Jekyll将在源目录的根目录中查找引用的文件（在本例中为`footer.html`），`_includes`并插入其内容。"
   ]
  },
  {
   "cell_type": "markdown",
   "metadata": {},
   "source": [
    "# Including files relative to another file"
   ]
  },
  {
   "cell_type": "markdown",
   "metadata": {},
   "source": [
    "可以使用`include_relative`标签选择当前文件的文件片段，并include："
   ]
  },
  {
   "cell_type": "raw",
   "metadata": {},
   "source": [
    "{% include_relative somedir/footer.html %}"
   ]
  },
  {
   "cell_type": "markdown",
   "metadata": {},
   "source": [
    "在这里你不需要将文件放`_includes`目录下，而是，放在与这个标签相关的文件夹下。 \n",
    "\n",
    "例如：如果_`posts/2014-09-03-my-file.markdown`使用`include_relative`标记，则包含的文件必须位于`_posts`目录或其子目录中"
   ]
  },
  {
   "cell_type": "markdown",
   "metadata": {},
   "source": [
    "**Note: 无法使用该`../`语法指定引用更高级别目录的包含位置。**"
   ]
  },
  {
   "cell_type": "markdown",
   "metadata": {},
   "source": [
    "`include`标签的所有其他功能都可用于`include_relative`标签，例如变量variables。"
   ]
  },
  {
   "cell_type": "markdown",
   "metadata": {},
   "source": [
    "# Using variables names for the include file (使用包含文件永久链接的变量名称)"
   ]
  },
  {
   "cell_type": "markdown",
   "metadata": {},
   "source": [
    "您要嵌入的文件的名称可以指定为变量而不是实际的文件名.\n",
    "\n",
    "比如：在页面的front matter定义了一个变量，如下所示："
   ]
  },
  {
   "cell_type": "raw",
   "metadata": {},
   "source": [
    "---\n",
    "title: My page\n",
    "my_variable: footer_company_a.html\n",
    "---"
   ]
  },
  {
   "cell_type": "markdown",
   "metadata": {},
   "source": [
    "然后，您可以在include中引用该变量："
   ]
  },
  {
   "cell_type": "raw",
   "metadata": {},
   "source": [
    "{% if page.my_variable %}\n",
    "  {% include {{ page.my_variable }} %}\n",
    "{% endif %}"
   ]
  },
  {
   "cell_type": "markdown",
   "metadata": {},
   "source": [
    "在这个例子中，包括将插入的文件`footer_company_a.html`从`_includes/footer_company_a.html`目录。"
   ]
  },
  {
   "cell_type": "markdown",
   "metadata": {},
   "source": [
    "# Passing parameters to includes\n"
   ]
  },
  {
   "cell_type": "markdown",
   "metadata": {},
   "source": [
    "可以将参数传递给include。\n",
    "\n",
    "假设note.html在_includes文件夹中,这个文件调用了包含下面格式："
   ]
  },
  {
   "cell_type": "raw",
   "metadata": {},
   "source": [
    "<div markdown=\"span\" class=\"alert alert-info\" role=\"alert\">\n",
    "<i class=\"fa fa-info-circle\"></i> <b>Note:</b>\n",
    "{{ include.content }}\n",
    "</div>"
   ]
  },
  {
   "cell_type": "markdown",
   "metadata": {},
   "source": [
    "{{ include.content }}是一个在调用include并为该参数指定值时填充的参数，如下所示："
   ]
  },
  {
   "cell_type": "raw",
   "metadata": {},
   "source": [
    "{% include note.html content=\"This is my sample note.\" %}"
   ]
  },
  {
   "cell_type": "markdown",
   "metadata": {},
   "source": [
    "content（将This is my sample note）的值将插入{{ include.content }}参数中。"
   ]
  },
  {
   "cell_type": "markdown",
   "metadata": {},
   "source": [
    "传递参数到includes是很有用的，尤其是在你的markdown中隐藏着复杂的格式时。"
   ]
  },
  {
   "cell_type": "markdown",
   "metadata": {},
   "source": [
    "假设您有一个具有复杂格式的特殊图像语法，并且您不希望作者记住复杂的格式。\n",
    "\n",
    "例如，假设您有一个具有复杂格式的特殊图像语法，并且您不希望作者记住复杂的格式。因此，您决定使用包含参数的简化格式。以下是您可能希望使用include填充的特殊图像语法的示例："
   ]
  },
  {
   "cell_type": "raw",
   "metadata": {},
   "source": [
    "<figure>\n",
    "   <a href=\"http://jekyllrb.com\">\n",
    "   <img src=\"logo.png\" style=\"max-width: 200px;\"\n",
    "      alt=\"Jekyll logo\" />\n",
    "   </a>\n",
    "   <figcaption>This is the Jekyll logo</figcaption>\n",
    "</figure>"
   ]
  },
  {
   "cell_type": "raw",
   "metadata": {},
   "source": [
    "可以在include中对此内容进行模板化，并将每个值作为参数提供，如下所示："
   ]
  },
  {
   "cell_type": "raw",
   "metadata": {},
   "source": [
    "<figure>\n",
    "   <a href=\"{{ include.url }}\">\n",
    "   <img src=\"{{ include.file }}\" style=\"max-width: {{ include.max-width }};\"\n",
    "      alt=\"{{ include.alt }}\"/>\n",
    "   </a>\n",
    "   <figcaption>{{ include.caption }}</figcaption>\n",
    "</figure>"
   ]
  },
  {
   "cell_type": "markdown",
   "metadata": {},
   "source": [
    "5个参数：\n",
    "\n",
    "    url\n",
    "    max-width\n",
    "    file\n",
    "    alt\n",
    "    caption"
   ]
  },
  {
   "cell_type": "markdown",
   "metadata": {},
   "source": [
    "这是一个将所有参数传递给此包含的示例（包含文件已命名image.html）"
   ]
  },
  {
   "cell_type": "raw",
   "metadata": {},
   "source": [
    "{% include image.html url=\"http://jekyllrb.com\"\n",
    "max-width=\"200px\" file=\"logo.png\" alt=\"Jekyll logo\"\n",
    "caption=\"This is the Jekyll logo.\" %}"
   ]
  },
  {
   "cell_type": "markdown",
   "metadata": {},
   "source": [
    "结果是前面显示的原始HTML代码。"
   ]
  },
  {
   "cell_type": "markdown",
   "metadata": {},
   "source": [
    "为了保护用户不为参数提供值的情况，您可以使用Liquid的默认过滤器。"
   ]
  },
  {
   "cell_type": "markdown",
   "metadata": {},
   "source": [
    "总的来说，您可以创建包含充当各种用途模板的包含 - 插入音频或视频剪辑，警报，特殊格式等。请注意，您应该避免使用太多包含，因为这会减慢您网站的构建时间。例如，每次插入图像时都不要使用include 。（上述技术显示了特殊图像的用例。）"
   ]
  },
  {
   "cell_type": "markdown",
   "metadata": {},
   "source": [
    "# Passing parameter variables to includes"
   ]
  },
  {
   "cell_type": "markdown",
   "metadata": {},
   "source": [
    "假设您要传递给include的参数是变量而不是字符串。例如，您可能`{{ site.product_name }}`用来引用产品的每个实例而不是实际的硬编码名称。（在这种情况下，您的`_config.yml`文件将有一个名为`product_name`产品名称的密钥。）"
   ]
  },
  {
   "cell_type": "markdown",
   "metadata": {},
   "source": [
    "传递给include参数的字符串不能包含花括号。例如，您无法传递包含以下内容的参数："
   ]
  },
  {
   "cell_type": "raw",
   "metadata": {},
   "source": [
    "\"The latest version of {{ site.product_name }} is now available.\""
   ]
  },
  {
   "cell_type": "markdown",
   "metadata": {},
   "source": [
    "如果要在传递给include的参数中包含此变量，则需要将整个参数作为变量存储，然后再将其传递给include。您可以使用`capture`标签来创建变量："
   ]
  },
  {
   "cell_type": "raw",
   "metadata": {},
   "source": [
    "{% capture download_note %}\n",
    "The latest version of {{ site.product_name }} is now available.\n",
    "{% endcapture %}"
   ]
  },
  {
   "cell_type": "markdown",
   "metadata": {},
   "source": [
    "然后将此捕获的变量传递给include的参数。省略参数内容周围的引号，因为它不再是一个字符串（它是一个变量）："
   ]
  },
  {
   "cell_type": "raw",
   "metadata": {},
   "source": [
    "{% include note.html content=download_note %}"
   ]
  },
  {
   "cell_type": "code",
   "execution_count": null,
   "metadata": {},
   "outputs": [],
   "source": []
  }
 ],
 "metadata": {
  "kernelspec": {
   "display_name": "Python 3",
   "language": "python",
   "name": "python3"
  },
  "language_info": {
   "codemirror_mode": {
    "name": "ipython",
    "version": 3
   },
   "file_extension": ".py",
   "mimetype": "text/x-python",
   "name": "python",
   "nbconvert_exporter": "python",
   "pygments_lexer": "ipython3",
   "version": "3.7.1"
  },
  "toc": {
   "base_numbering": 1,
   "nav_menu": {},
   "number_sections": true,
   "sideBar": true,
   "skip_h1_title": false,
   "title_cell": "Table of Contents",
   "title_sidebar": "Contents",
   "toc_cell": false,
   "toc_position": {},
   "toc_section_display": true,
   "toc_window_display": false
  }
 },
 "nbformat": 4,
 "nbformat_minor": 2
}
