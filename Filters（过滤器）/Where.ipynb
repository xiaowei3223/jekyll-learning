{
 "cells": [
  {
   "cell_type": "markdown",
   "metadata": {},
   "source": [
    "# Where"
   ]
  },
  {
   "cell_type": "markdown",
   "metadata": {},
   "source": [
    "创建一个数组，仅包含具有给定属性值的对象，或默认情况下的任何truthy值。"
   ]
  },
  {
   "cell_type": "markdown",
   "metadata": {},
   "source": [
    "在此示例中，假设您有一个产品列表，并且您想要单独显示您的厨房产品。使用`where`，您可以创建一个只包含有产品的阵列`\"type\"`中`\"kitchen\"`。"
   ]
  },
  {
   "cell_type": "markdown",
   "metadata": {},
   "source": [
    "###### Input"
   ]
  },
  {
   "cell_type": "raw",
   "metadata": {},
   "source": [
    "All products:\n",
    "{% for product in products %}\n",
    "- {{ product.title }}\n",
    "{% endfor %} \n",
    "\n",
    "{% assign kitchen_products = products | where: \"type\", \"kitchen\" %}\n",
    "\n",
    "Kitchen products:\n",
    "{% for product in kitchen_products %}\n",
    "- {{ product.title }}\n",
    "{% endfor %} "
   ]
  },
  {
   "cell_type": "markdown",
   "metadata": {},
   "source": [
    "###### Output"
   ]
  },
  {
   "cell_type": "raw",
   "metadata": {},
   "source": [
    "All products:\n",
    "- Vacuum\n",
    "- Spatula\n",
    "- Television\n",
    "- Garlic press\n",
    "\n",
    "Kitchen products:\n",
    "- Spatula\n",
    "- Garlic press\n"
   ]
  },
  {
   "cell_type": "markdown",
   "metadata": {},
   "source": [
    "比如说你有一个产品清单，你只想展示那些可以买到的产品。您可以`where`使用属性名称但没有目标值来包含具有真 `\"available\"`值的所有产品。"
   ]
  },
  {
   "cell_type": "markdown",
   "metadata": {},
   "source": [
    "###### Input"
   ]
  },
  {
   "cell_type": "raw",
   "metadata": {},
   "source": [
    "All products:\n",
    "{% for product in products %} \n",
    "- {{ product.title }}\n",
    "{% endfor %}\n",
    "\n",
    "{% assign available_products = products | where: \"available\" %}\n",
    "\n",
    "Available products:\n",
    "{% for product in available_products %} \n",
    "- {{ product.title }}\n",
    "{% endfor %}"
   ]
  },
  {
   "cell_type": "markdown",
   "metadata": {},
   "source": [
    "###### Output"
   ]
  },
  {
   "cell_type": "raw",
   "metadata": {},
   "source": [
    "All products:\n",
    "- Coffee mug\n",
    "- Limited edition sneakers\n",
    "- Boring sneakers\n",
    "\n",
    "Available products:\n",
    "- Coffee mug\n",
    "- Boring sneakers"
   ]
  },
  {
   "cell_type": "markdown",
   "metadata": {},
   "source": [
    "该`where`过滤器还可以用于在与组合以找到一个单一对象中的阵列`first`的过滤器。例如，假设您想在新的秋季系列中展示衬衫。"
   ]
  },
  {
   "cell_type": "markdown",
   "metadata": {},
   "source": [
    "###### Input"
   ]
  },
  {
   "cell_type": "raw",
   "metadata": {},
   "source": [
    "{% assign new_shirt = products | where: \"type\", \"shirt\" | first %}\n",
    "\n",
    "Featured product: {{ new_shirt.title }}"
   ]
  },
  {
   "cell_type": "markdown",
   "metadata": {},
   "source": [
    "###### Output"
   ]
  },
  {
   "cell_type": "raw",
   "metadata": {},
   "source": [
    "Featured product: Hawaiian print sweater vest"
   ]
  },
  {
   "cell_type": "code",
   "execution_count": null,
   "metadata": {},
   "outputs": [],
   "source": []
  }
 ],
 "metadata": {
  "kernelspec": {
   "display_name": "Python 3",
   "language": "python",
   "name": "python3"
  },
  "language_info": {
   "codemirror_mode": {
    "name": "ipython",
    "version": 3
   },
   "file_extension": ".py",
   "mimetype": "text/x-python",
   "name": "python",
   "nbconvert_exporter": "python",
   "pygments_lexer": "ipython3",
   "version": "3.7.1"
  }
 },
 "nbformat": 4,
 "nbformat_minor": 2
}
