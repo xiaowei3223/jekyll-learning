{
 "cells": [
  {
   "cell_type": "markdown",
   "metadata": {},
   "source": [
    "# url_encode"
   ]
  },
  {
   "cell_type": "markdown",
   "metadata": {},
   "source": [
    "将字符串中任何不安全的URL字符转换为百分比编码字符。"
   ]
  },
  {
   "cell_type": "markdown",
   "metadata": {},
   "source": [
    "###### Input"
   ]
  },
  {
   "cell_type": "raw",
   "metadata": {},
   "source": [
    "{{ \"john@liquid.com\" | url_encode }}"
   ]
  },
  {
   "cell_type": "markdown",
   "metadata": {},
   "source": [
    "###### Output"
   ]
  },
  {
   "cell_type": "raw",
   "metadata": {},
   "source": [
    "john%40liquid.com"
   ]
  },
  {
   "cell_type": "markdown",
   "metadata": {},
   "source": [
    "###### Input"
   ]
  },
  {
   "cell_type": "raw",
   "metadata": {},
   "source": [
    "{{ \"Tetsuro Takara\" | url_encode }}"
   ]
  },
  {
   "cell_type": "markdown",
   "metadata": {},
   "source": [
    "###### Output"
   ]
  },
  {
   "cell_type": "raw",
   "metadata": {},
   "source": [
    "Tetsuro+Takara"
   ]
  },
  {
   "cell_type": "code",
   "execution_count": null,
   "metadata": {},
   "outputs": [],
   "source": []
  }
 ],
 "metadata": {
  "kernelspec": {
   "display_name": "Python 3",
   "language": "python",
   "name": "python3"
  },
  "language_info": {
   "codemirror_mode": {
    "name": "ipython",
    "version": 3
   },
   "file_extension": ".py",
   "mimetype": "text/x-python",
   "name": "python",
   "nbconvert_exporter": "python",
   "pygments_lexer": "ipython3",
   "version": "3.7.1"
  }
 },
 "nbformat": 4,
 "nbformat_minor": 2
}
