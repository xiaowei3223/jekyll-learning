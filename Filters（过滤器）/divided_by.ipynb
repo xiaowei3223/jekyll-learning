{
 "cells": [
  {
   "cell_type": "markdown",
   "metadata": {},
   "source": [
    "# divided_by"
   ]
  },
  {
   "cell_type": "markdown",
   "metadata": {},
   "source": [
    "将数字除以指定的数字。\n",
    "\n",
    "如果除数是整数，则结果向下舍入到最接近的整数（即最低值）。"
   ]
  },
  {
   "cell_type": "markdown",
   "metadata": {},
   "source": [
    "###### Input"
   ]
  },
  {
   "cell_type": "raw",
   "metadata": {},
   "source": [
    "{{ 16 | divided_by: 4 }}"
   ]
  },
  {
   "cell_type": "markdown",
   "metadata": {},
   "source": [
    "###### Output"
   ]
  },
  {
   "cell_type": "raw",
   "metadata": {},
   "source": [
    "4"
   ]
  },
  {
   "cell_type": "markdown",
   "metadata": {},
   "source": [
    "###### Input"
   ]
  },
  {
   "cell_type": "raw",
   "metadata": {},
   "source": [
    "{{ 5 | divided_by: 3 }}"
   ]
  },
  {
   "cell_type": "markdown",
   "metadata": {},
   "source": [
    "###### Output"
   ]
  },
  {
   "cell_type": "raw",
   "metadata": {},
   "source": [
    "1"
   ]
  },
  {
   "cell_type": "markdown",
   "metadata": {},
   "source": [
    "### Controlling rounding （控制四舍五入）"
   ]
  },
  {
   "cell_type": "markdown",
   "metadata": {},
   "source": [
    "`divided_by`产生与除数相同类型的结果 - 也就是说，如果除以整数，结果将是一个整数。如果除以浮点数（其中包含小数的数字），结果将为浮点数。"
   ]
  },
  {
   "cell_type": "code",
   "execution_count": null,
   "metadata": {},
   "outputs": [],
   "source": [
    "例如，这里的除数是一个整数：`"
   ]
  },
  {
   "cell_type": "markdown",
   "metadata": {},
   "source": [
    "###### Input"
   ]
  },
  {
   "cell_type": "raw",
   "metadata": {},
   "source": [
    "{{ 20 | divided_by: 7 }}"
   ]
  },
  {
   "cell_type": "markdown",
   "metadata": {},
   "source": [
    "###### Output"
   ]
  },
  {
   "cell_type": "raw",
   "metadata": {},
   "source": [
    "2"
   ]
  },
  {
   "cell_type": "markdown",
   "metadata": {},
   "source": [
    "这是一个浮点数："
   ]
  },
  {
   "cell_type": "markdown",
   "metadata": {},
   "source": [
    "###### Input"
   ]
  },
  {
   "cell_type": "raw",
   "metadata": {},
   "source": [
    "{{ 20 | divided_by: 7.0 }}"
   ]
  },
  {
   "cell_type": "markdown",
   "metadata": {},
   "source": [
    "###### Output"
   ]
  },
  {
   "cell_type": "raw",
   "metadata": {},
   "source": [
    "2.857142857142857"
   ]
  },
  {
   "cell_type": "markdown",
   "metadata": {},
   "source": [
    "### 更改变量类型"
   ]
  },
  {
   "cell_type": "markdown",
   "metadata": {},
   "source": [
    "使用变量作为除数，在这种情况下，您不能简单地添加.0将其转换为浮点数。在这些情况下，您可以`assign`使用`times`过滤器将变量的版本转换为浮点数。"
   ]
  },
  {
   "cell_type": "markdown",
   "metadata": {},
   "source": [
    "在这个例子中，我们除以一个包含整数的变量，所以我们得到一个整数："
   ]
  },
  {
   "cell_type": "markdown",
   "metadata": {},
   "source": [
    "###### Input"
   ]
  },
  {
   "cell_type": "raw",
   "metadata": {},
   "source": [
    "{% assign my_integer = 7 %}\n",
    "{{ 20 | divided_by: my_integer }}"
   ]
  },
  {
   "cell_type": "markdown",
   "metadata": {},
   "source": [
    "###### Output"
   ]
  },
  {
   "cell_type": "raw",
   "metadata": {},
   "source": [
    "2"
   ]
  },
  {
   "cell_type": "markdown",
   "metadata": {},
   "source": [
    "在这里，我们将变量乘以`1.0`得到一个浮点数，然后除以浮点数："
   ]
  },
  {
   "cell_type": "markdown",
   "metadata": {},
   "source": [
    "###### Input"
   ]
  },
  {
   "cell_type": "raw",
   "metadata": {},
   "source": [
    "{% assign my_integer = 7 %}\n",
    "{% assign my_float = my_integer | times: 1.0 %}\n",
    "{{ 20 | divided_by: my_float }}"
   ]
  },
  {
   "cell_type": "markdown",
   "metadata": {},
   "source": [
    "###### Output"
   ]
  },
  {
   "cell_type": "raw",
   "metadata": {},
   "source": [
    "2.857142857142857"
   ]
  },
  {
   "cell_type": "code",
   "execution_count": null,
   "metadata": {},
   "outputs": [],
   "source": []
  }
 ],
 "metadata": {
  "kernelspec": {
   "display_name": "Python 3",
   "language": "python",
   "name": "python3"
  },
  "language_info": {
   "codemirror_mode": {
    "name": "ipython",
    "version": 3
   },
   "file_extension": ".py",
   "mimetype": "text/x-python",
   "name": "python",
   "nbconvert_exporter": "python",
   "pygments_lexer": "ipython3",
   "version": "3.7.1"
  }
 },
 "nbformat": 4,
 "nbformat_minor": 2
}
