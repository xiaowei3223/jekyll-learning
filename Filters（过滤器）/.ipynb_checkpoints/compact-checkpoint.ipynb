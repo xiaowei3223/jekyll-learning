{
 "cells": [
  {
   "cell_type": "markdown",
   "metadata": {},
   "source": [
    "# compact"
   ]
  },
  {
   "cell_type": "markdown",
   "metadata": {},
   "source": [
    "删除array（数组）中的任何`nil`值\n",
    "\n",
    "对于此示例，假设`site.pages`是网站的内容页面数组，其中一些页面具有`category`指定其内容类别的属性。如果我们将`map`这些类别添加到数组中，则某些数组项可能是`nil`任何页面没有`category`属性。"
   ]
  },
  {
   "cell_type": "markdown",
   "metadata": {},
   "source": [
    "###### Input"
   ]
  },
  {
   "cell_type": "raw",
   "metadata": {},
   "source": [
    "{% assign site_categories = site.pages | map: 'category' %}\n",
    "\n",
    "{% for category in site_categories %}\n",
    "  {{ category }}\n",
    "{% endfor %}"
   ]
  },
  {
   "cell_type": "markdown",
   "metadata": {},
   "source": [
    "###### Output"
   ]
  },
  {
   "cell_type": "raw",
   "metadata": {},
   "source": [
    "  business\n",
    "  celebrities\n",
    "\n",
    "  lifestyle\n",
    "  sports\n",
    "\n",
    "  technology"
   ]
  },
  {
   "cell_type": "markdown",
   "metadata": {},
   "source": [
    "通过`compact`在创建`site_categories`数组时使用，我们可以删除数组中的所有`nil`值。"
   ]
  },
  {
   "cell_type": "markdown",
   "metadata": {},
   "source": [
    "###### Input"
   ]
  },
  {
   "cell_type": "raw",
   "metadata": {},
   "source": [
    "{% assign site_categories = site.pages | map: 'category' | compact %}\n",
    "\n",
    "{% for category in site_categories %}\n",
    "  {{ category }}\n",
    "{% endfor %}"
   ]
  },
  {
   "cell_type": "markdown",
   "metadata": {},
   "source": [
    "###### Output"
   ]
  },
  {
   "cell_type": "raw",
   "metadata": {},
   "source": [
    "  business\n",
    "  celebrities\n",
    "  lifestyle\n",
    "  sports\n",
    "  technology"
   ]
  },
  {
   "cell_type": "code",
   "execution_count": null,
   "metadata": {},
   "outputs": [],
   "source": []
  }
 ],
 "metadata": {
  "kernelspec": {
   "display_name": "Python 3",
   "language": "python",
   "name": "python3"
  },
  "language_info": {
   "codemirror_mode": {
    "name": "ipython",
    "version": 3
   },
   "file_extension": ".py",
   "mimetype": "text/x-python",
   "name": "python",
   "nbconvert_exporter": "python",
   "pygments_lexer": "ipython3",
   "version": "3.7.1"
  }
 },
 "nbformat": 4,
 "nbformat_minor": 2
}
