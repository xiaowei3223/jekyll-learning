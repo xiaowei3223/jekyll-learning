{
 "cells": [
  {
   "cell_type": "markdown",
   "metadata": {},
   "source": [
    "# CONCAT"
   ]
  },
  {
   "cell_type": "markdown",
   "metadata": {},
   "source": [
    "连接（连接在一起）多个数组。结果数组包含输入数组中的所有项。"
   ]
  },
  {
   "cell_type": "markdown",
   "metadata": {},
   "source": [
    "###### Input"
   ]
  },
  {
   "cell_type": "raw",
   "metadata": {},
   "source": [
    "{% assign fruits = \"apples, oranges, peaches\" | split: \", \" %}\n",
    "{% assign vegetables = \"carrots, turnips, potatoes\" | split: \", \" %}\n",
    "\n",
    "{% assign everything = fruits | concat: vegetables %}\n",
    "\n",
    "{% for item in everything %}\n",
    "- {{ item }}\n",
    "{% endfor %}"
   ]
  },
  {
   "cell_type": "markdown",
   "metadata": {},
   "source": [
    "###### Output"
   ]
  },
  {
   "cell_type": "raw",
   "metadata": {},
   "source": [
    "- apples\n",
    "- oranges\n",
    "- peaches\n",
    "- carrots\n",
    "- turnips\n",
    "- potatoes"
   ]
  },
  {
   "cell_type": "markdown",
   "metadata": {},
   "source": [
    "您可以将concat过滤器串联在一起以连接两个以上的数组："
   ]
  },
  {
   "cell_type": "markdown",
   "metadata": {},
   "source": [
    "###### Input"
   ]
  },
  {
   "cell_type": "raw",
   "metadata": {},
   "source": [
    "{% assign furniture = \"chairs, tables, shelves\" | split: \", \" %}\n",
    "\n",
    "{% assign everything = fruits | concat: vegetables | concat: furniture %}\n",
    "\n",
    "{% for item in everything %}\n",
    "- {{ item }}\n",
    "{% endfor %}"
   ]
  },
  {
   "cell_type": "markdown",
   "metadata": {},
   "source": [
    "###### Output"
   ]
  },
  {
   "cell_type": "raw",
   "metadata": {},
   "source": [
    "- apples\n",
    "- oranges\n",
    "- peaches\n",
    "- carrots\n",
    "- turnips\n",
    "- potatoes\n",
    "- chairs\n",
    "- tables\n",
    "- shelves"
   ]
  },
  {
   "cell_type": "code",
   "execution_count": null,
   "metadata": {},
   "outputs": [],
   "source": []
  }
 ],
 "metadata": {
  "kernelspec": {
   "display_name": "Python 3",
   "language": "python",
   "name": "python3"
  },
  "language_info": {
   "codemirror_mode": {
    "name": "ipython",
    "version": 3
   },
   "file_extension": ".py",
   "mimetype": "text/x-python",
   "name": "python",
   "nbconvert_exporter": "python",
   "pygments_lexer": "ipython3",
   "version": "3.7.1"
  }
 },
 "nbformat": 4,
 "nbformat_minor": 2
}
