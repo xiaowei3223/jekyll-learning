{
 "cells": [
  {
   "cell_type": "markdown",
   "metadata": {},
   "source": [
    "# downcase"
   ]
  },
  {
   "cell_type": "markdown",
   "metadata": {},
   "source": [
    "使字符串中的每个字符小写。它对已经全部小写的字符串没有影响。"
   ]
  },
  {
   "cell_type": "markdown",
   "metadata": {},
   "source": [
    "###### Input"
   ]
  },
  {
   "cell_type": "raw",
   "metadata": {},
   "source": [
    "{{ \"Parker Moore\" | downcase }}"
   ]
  },
  {
   "cell_type": "markdown",
   "metadata": {},
   "source": [
    "###### Output"
   ]
  },
  {
   "cell_type": "raw",
   "metadata": {},
   "source": [
    "parker moore"
   ]
  },
  {
   "cell_type": "markdown",
   "metadata": {},
   "source": [
    "###### Input"
   ]
  },
  {
   "cell_type": "raw",
   "metadata": {},
   "source": [
    "{{ \"apple\" | downcase }}"
   ]
  },
  {
   "cell_type": "markdown",
   "metadata": {},
   "source": [
    "###### Output"
   ]
  },
  {
   "cell_type": "raw",
   "metadata": {},
   "source": [
    "apple"
   ]
  },
  {
   "cell_type": "code",
   "execution_count": null,
   "metadata": {},
   "outputs": [],
   "source": []
  }
 ],
 "metadata": {
  "kernelspec": {
   "display_name": "Python 3",
   "language": "python",
   "name": "python3"
  },
  "language_info": {
   "codemirror_mode": {
    "name": "ipython",
    "version": 3
   },
   "file_extension": ".py",
   "mimetype": "text/x-python",
   "name": "python",
   "nbconvert_exporter": "python",
   "pygments_lexer": "ipython3",
   "version": "3.7.1"
  }
 },
 "nbformat": 4,
 "nbformat_minor": 2
}
