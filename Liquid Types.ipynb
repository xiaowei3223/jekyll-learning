{
 "cells": [
  {
   "cell_type": "markdown",
   "metadata": {},
   "source": [
    "Liquid 有5中数据类型。\n",
    "\n",
    "    String（字符串）\n",
    "    Number （数字）\n",
    "    Boolean （布尔值）\n",
    "    Nil\n",
    "    Array"
   ]
  },
  {
   "cell_type": "markdown",
   "metadata": {},
   "source": [
    "可以使用`assign`或`capture`标签初始化Liquid变量。"
   ]
  },
  {
   "cell_type": "markdown",
   "metadata": {},
   "source": [
    "# String"
   ]
  },
  {
   "cell_type": "markdown",
   "metadata": {},
   "source": [
    "通过将变量的值包装在单引号或双引号中来声明字符串："
   ]
  },
  {
   "cell_type": "raw",
   "metadata": {},
   "source": [
    "{% assign my_string = \"Hello World!\" %}"
   ]
  },
  {
   "cell_type": "markdown",
   "metadata": {},
   "source": [
    "# Number （数字）"
   ]
  },
  {
   "cell_type": "markdown",
   "metadata": {},
   "source": [
    "数字包括浮点数和整数："
   ]
  },
  {
   "cell_type": "raw",
   "metadata": {},
   "source": [
    "{% assign my_int = 25 %}\n",
    "{% assign my_float = 39.756 %}"
   ]
  },
  {
   "cell_type": "markdown",
   "metadata": {},
   "source": [
    "# Boolean （布尔值）"
   ]
  },
  {
   "cell_type": "markdown",
   "metadata": {},
   "source": [
    "Boolean是true或者false。声明布尔值时不需要引号："
   ]
  },
  {
   "cell_type": "raw",
   "metadata": {},
   "source": [
    "{% assign foo = true %}\n",
    "{% assign bar = false %}"
   ]
  },
  {
   "cell_type": "markdown",
   "metadata": {},
   "source": [
    "# Nil"
   ]
  },
  {
   "cell_type": "markdown",
   "metadata": {},
   "source": [
    "Nil是一个特殊的空值，当Liquid代码没有结果时返回。它不是字符“nil”的字符串。\n",
    "\n",
    "在块和其他液体标签的条件下，Nil被视为假`if`，检查语句的真实性。\n",
    "\n",
    "在以下示例中，如果用户不存在（即`user`返回`nil`），Liquid将不会打印问候语："
   ]
  },
  {
   "cell_type": "raw",
   "metadata": {},
   "source": [
    "{% if user %}\n",
    "  Hello {{ user.name }}!\n",
    "{% endif %}"
   ]
  },
  {
   "cell_type": "markdown",
   "metadata": {},
   "source": [
    "返回的标签或输出nil不会向页面打印任何内容。"
   ]
  },
  {
   "cell_type": "markdown",
   "metadata": {},
   "source": [
    "###### input"
   ]
  },
  {
   "cell_type": "raw",
   "metadata": {},
   "source": [
    "The current user is {{ user.name }}"
   ]
  },
  {
   "cell_type": "markdown",
   "metadata": {},
   "source": [
    "###### Output"
   ]
  },
  {
   "cell_type": "raw",
   "metadata": {},
   "source": [
    "The current user is"
   ]
  },
  {
   "cell_type": "markdown",
   "metadata": {},
   "source": [
    "# Array （数组）"
   ]
  },
  {
   "cell_type": "markdown",
   "metadata": {},
   "source": [
    "Array（数组）包含任何类型的变量列表。"
   ]
  },
  {
   "cell_type": "markdown",
   "metadata": {},
   "source": [
    "## 访问数组中的项目"
   ]
  },
  {
   "cell_type": "markdown",
   "metadata": {},
   "source": [
    "要访问数组中的所有项，可以使用迭代标记遍历数组中的每个项。"
   ]
  },
  {
   "cell_type": "markdown",
   "metadata": {},
   "source": [
    "###### Input"
   ]
  },
  {
   "cell_type": "raw",
   "metadata": {},
   "source": [
    "<!-- if site.users = \"Tobi\", \"Laura\", \"Tetsuro\", \"Adam\" -->\n",
    "{% for user in site.users %}\n",
    "  {{ user }}\n",
    "{% endfor %}"
   ]
  },
  {
   "cell_type": "markdown",
   "metadata": {},
   "source": [
    "###### Output"
   ]
  },
  {
   "cell_type": "raw",
   "metadata": {},
   "source": [
    "Tobi Laura Tetsuro Adam\n"
   ]
  },
  {
   "cell_type": "markdown",
   "metadata": {},
   "source": [
    "## 访问数组中的特定项"
   ]
  },
  {
   "cell_type": "markdown",
   "metadata": {},
   "source": [
    "您可以使用方括号`[ ]`表示法来访问数组中的特定项。数组索引从零开始。"
   ]
  },
  {
   "cell_type": "markdown",
   "metadata": {},
   "source": [
    "###### Input"
   ]
  },
  {
   "cell_type": "raw",
   "metadata": {},
   "source": [
    "<!-- if site.users = \"Tobi\", \"Laura\", \"Tetsuro\", \"Adam\" -->\n",
    "{{ site.users[0] }}\n",
    "{{ site.users[1] }}\n",
    "{{ site.users[3] }}"
   ]
  },
  {
   "cell_type": "markdown",
   "metadata": {},
   "source": [
    "###### Output"
   ]
  },
  {
   "cell_type": "raw",
   "metadata": {},
   "source": [
    "Tobi\n",
    "Laura\n",
    "Adam"
   ]
  },
  {
   "cell_type": "markdown",
   "metadata": {},
   "source": [
    "## 初始化数组"
   ]
  },
  {
   "cell_type": "code",
   "execution_count": null,
   "metadata": {},
   "outputs": [],
   "source": [
    "不能仅使用Liquid初始化数组。还可以使用拆分筛选器将字符串分解为子字符串数组。"
   ]
  }
 ],
 "metadata": {
  "kernelspec": {
   "display_name": "Python 3",
   "language": "python",
   "name": "python3"
  },
  "language_info": {
   "codemirror_mode": {
    "name": "ipython",
    "version": 3
   },
   "file_extension": ".py",
   "mimetype": "text/x-python",
   "name": "python",
   "nbconvert_exporter": "python",
   "pygments_lexer": "ipython3",
   "version": "3.7.1"
  }
 },
 "nbformat": 4,
 "nbformat_minor": 2
}
