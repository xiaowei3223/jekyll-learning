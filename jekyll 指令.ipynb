{
 "cells": [
  {
   "cell_type": "markdown",
   "metadata": {},
   "source": [
    "# jekyll 指令：\n"
   ]
  },
  {
   "cell_type": "markdown",
   "metadata": {},
   "source": [
    "`jekyll new` - 使用基于 gem 的默认主题创建一个全新的站点\n",
    "\n",
    "`jekyll new --blank` - 创建一个全新的空的 Jekyll 站点脚手架\n",
    "\n",
    "`jekyll build` 或 `jekyll b` - 执行一次构建，并将生成的站点输出到 ./_site （默认） 目录\n",
    "\n",
    "`jekyll serve` 或 `jekyll s` - 在源文件更改时构建站点并提供本地访问服务\n",
    "\n",
    "`jekyll doctor` - 输出任何不推荐功能或配置方面的问题\n",
    "\n",
    "`jekyll new-theme` - 创建一个全新的 Jekyll 主题脚手架\n",
    "\n",
    "`jekyll clean` - 删除生成的站点和元数据文件\n",
    "\n",
    "`jekyll help` - 显示帮助信息，也可以针对特定子命令显示帮助信息，例如 `jekyll help build`\n",
    "\n",
    "通常在本地开发时使用`jekyll serve` 命令； `jekyll build` 命令用来为生产环境构建站点。"
   ]
  },
  {
   "cell_type": "code",
   "execution_count": null,
   "metadata": {},
   "outputs": [],
   "source": []
  }
 ],
 "metadata": {
  "kernelspec": {
   "display_name": "R",
   "language": "R",
   "name": "ir"
  },
  "language_info": {
   "codemirror_mode": "r",
   "file_extension": ".r",
   "mimetype": "text/x-r-source",
   "name": "R",
   "pygments_lexer": "r",
   "version": "3.5.3"
  }
 },
 "nbformat": 4,
 "nbformat_minor": 2
}
