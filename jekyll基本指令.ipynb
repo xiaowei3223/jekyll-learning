{
 "cells": [
  {
   "cell_type": "markdown",
   "metadata": {},
   "source": [
    "安装了 Jekyll 的 Gem 包之后，就可以在命令行中使用 Jekyll 命令了。有以下这些用法："
   ]
  },
  {
   "cell_type": "raw",
   "metadata": {},
   "source": [
    "$ jekyll build\n",
    "# => 当前文件夹中的内容将会生成到 ./_site 文件夹中。\n",
    "\n",
    "$ jekyll build --destination <destination>\n",
    "# => 当前文件夹中的内容将会生成到目标文件夹<destination>中。\n",
    "\n",
    "$ jekyll build --source <source> --destination <destination>\n",
    "# => 指定源文件夹<source>中的内容将会生成到目标文件夹<destination>中。\n",
    "\n",
    "$ jekyll build --watch\n",
    "\n",
    "# => 当前文件夹中的内容将会生成到 ./_site 文件夹中，\n",
    "#    查看改变，并且自动再生成。"
   ]
  },
  {
   "cell_type": "markdown",
   "metadata": {},
   "source": [
    "Jekyll 同时也集成了一个开发用的服务器，可以让你使用浏览器在本地进行预览。"
   ]
  },
  {
   "cell_type": "raw",
   "metadata": {},
   "source": [
    "$ jekyll serve\n",
    "# => 一个开发服务器将会运行在 http://localhost:4000/\n",
    "# Auto-regeneration（自动再生成文件）: 开启。使用 `--no-watch` 来关闭。\n",
    "\n",
    "$ jekyll serve --detach\n",
    "# => 功能和`jekyll serve`命令相同，但是会脱离终端在后台运行。\n",
    "#    如果你想关闭服务器，可以使用`kill -9 1234`命令，\"1234\" 是进程号（PID）。\n",
    "#    如果你找不到进程号，那么就用`ps aux | grep jekyll`命令来查看，然后关闭服务器。[更多](http://unixhelp.ed.ac.uk/shell/jobz5.html)."
   ]
  },
  {
   "cell_type": "markdown",
   "metadata": {},
   "source": [
    "以下是一个获取最简单 Jekyll 模板并生成静态页面并运行的例子。"
   ]
  },
  {
   "cell_type": "raw",
   "metadata": {},
   "source": [
    "~ $ gem install jekyll\n",
    "~ $ jekyll new myblog\n",
    "~ $ cd myblog\n",
    "~/myblog $ jekyll serve\n",
    "# => Now browse to http://localhost:4000"
   ]
  },
  {
   "cell_type": "markdown",
   "metadata": {},
   "source": [
    "如果你希望把 jekyll 安装到当前目录，你可以运行 jekyll new . 来代替。\n",
    "\n",
    "如果当前目录非空，你还需要增添 --force 参数，所以命令应为 jekyll new . --force。"
   ]
  },
  {
   "cell_type": "markdown",
   "metadata": {},
   "source": [
    "文件 / 目录\t描述\n",
    "_config.yml\n",
    "\n",
    "保存配置数据。很多配置选项都可以直接在命令行中进行设置，但是如果你把那些配置写在这儿，你就不用非要去记住那些命令了。\n",
    "\n",
    "_drafts\n",
    "\n",
    "drafts（草稿）是未发布的文章。这些文件的格式中都没有 title.MARKUP 数据。学习如何 使用草稿.\n",
    "\n",
    "_includes\n",
    "\n",
    "你可以加载这些包含部分到你的布局或者文章中以方便重用。可以用这个标签  {% include file.ext %} 来把文件 _includes/file.ext 包含进来。\n",
    "\n",
    "_layouts\n",
    "\n",
    "layouts（布局）是包裹在文章外部的模板。布局可以在 YAML 头信息中根据不同文章进行选择。 这将在下一个部分进行介绍。标签  {{ content }} 可以将content插入页面中。\n",
    "\n",
    "_posts\n",
    "\n",
    "这里放的就是你的文章了。文件格式很重要，必须要符合: YEAR-MONTH-DAY-title.MARKUP。 永久链接 可以在文章中自己定制，但是数据和标记语言都是根据文件名来确定的。\n",
    "\n",
    "_data\n",
    "\n",
    "格式化好的网站数据应放在这里。jekyll 的引擎会自动加载在该目录下所有的 yaml 文件（后缀是 .yml, .yaml, .json 或者 .csv ）。这些文件可以经由 ｀site.data｀ 访问。如果有一个 members.yml 文件在该目录下，你就可以通过 site.data.members 获取该文件的内容。\n",
    "\n",
    "_site\n",
    "\n",
    "一旦 Jekyll 完成转换，就会将生成的页面放在这里（默认）。最好将这个目录放进你的 .gitignore 文件中。\n",
    "\n",
    ".jekyll-metadata\n",
    "\n",
    "该文件帮助 Jekyll 跟踪哪些文件从上次建立站点开始到现在没有被修改，哪些文件需要在下一次站点建立时重新生成。该文件不会被包含在生成的站点中。将它加入到你的 .gitignore 文件可能是一个好注意。\n",
    "\n",
    "index.html and other HTML, Markdown, Textile files\n",
    "\n",
    "如果这些文件中包含 YAML 头信息 部分，Jekyll 就会自动将它们进行转换。当然，其他的如 .html, .markdown, .md, 或者 .textile 等在你的站点根目录下或者不是以上提到的目录中的文件也会被转换。\n",
    "\n",
    "Other Files/Folders\n",
    "\n",
    "其他一些未被提及的目录和文件如  css 还有 images 文件夹， favicon.ico 等文件都将被完全拷贝到生成的 site 中。这里有一些使用 Jekyll 的站点，如果你感兴趣就来看看吧。"
   ]
  },
  {
   "cell_type": "code",
   "execution_count": null,
   "metadata": {},
   "outputs": [],
   "source": []
  }
 ],
 "metadata": {
  "kernelspec": {
   "display_name": "R",
   "language": "R",
   "name": "ir"
  },
  "language_info": {
   "codemirror_mode": "r",
   "file_extension": ".r",
   "mimetype": "text/x-r-source",
   "name": "R",
   "pygments_lexer": "r",
   "version": "3.5.3"
  }
 },
 "nbformat": 4,
 "nbformat_minor": 2
}
