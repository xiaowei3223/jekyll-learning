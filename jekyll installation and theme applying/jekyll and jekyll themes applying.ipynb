{
 "cells": [
  {
   "cell_type": "markdown",
   "metadata": {},
   "source": [
    "# Jekyll installation"
   ]
  },
  {
   "cell_type": "markdown",
   "metadata": {},
   "source": [
    "## Jekyll on windows "
   ]
  },
  {
   "cell_type": "markdown",
   "metadata": {},
   "source": [
    "If you want to jekyll install on macOS or Linux, you can see on webside https://jekyllrb.com/docs/installation/"
   ]
  },
  {
   "cell_type": "markdown",
   "metadata": {},
   "source": [
    "### 1. The first thing is to install RubyInstaller on windows. \n",
    "\n",
    "**download RubyInstaller** \n",
    "\n",
    "You can download on [here](https://github.com/oneclick/rubyinstaller2/releases/download/RubyInstaller-2.6.3-1/rubyinstaller-devkit-2.6.3-1-x64.exe)\n",
    "for `Ruby+Devkit 2.6 3-1 (x64)`， or you can find others RubyInstallers versions to install on web https://rubyinstaller.org/downloads/\n",
    "\n",
    "**install RubyInstaller**\n",
    "\n",
    "**Check whether intalled Ruby**\n",
    "\n",
    "Open `Teminal` （win+R） and input command `ruby -v`, It will shows information like this picture:\n",
    "![rubyv.jpg](./picture/rubyv.jpg)\n",
    "\n",
    "### 2. Install Jekyll\n",
    "\n",
    "Open a new command prompt window from the start menu, so that changes to the `PATH` environment variable becomes effective. Install Jekyll and Bundler via: `gem install jekyll bundler`\n",
    "\n",
    "Check if Jekyll installed properly: `jekyll -v`\n",
    "![jekyllv.jpg](./picture/jekyllv.jpg)\n",
    "\n",
    "If you have other problem when you install jekyll, you can see the [office toturial](https://jekyllrb.com/docs/installation/windows/) ."
   ]
  },
  {
   "cell_type": "markdown",
   "metadata": {},
   "source": [
    "# Create a new jekyll site at ./mybolg"
   ]
  },
  {
   "cell_type": "markdown",
   "metadata": {},
   "source": [
    "This step (`Create a new jekyll site at ./mybolg`) is not necessary on my toturial, but it can help you to understand more information about jekyll. So I suggest you should to this step."
   ]
  },
  {
   "cell_type": "markdown",
   "metadata": {},
   "source": [
    "## Here I show you is building jekyll site on `F:\\wei\\myblog` folder."
   ]
  },
  {
   "cell_type": "markdown",
   "metadata": {},
   "source": [
    "**Here I show you is building jekyll site on `F:\\wei\\myblog` folder.**\n",
    "    \n",
    "    In the command prompt window, building jekyll site via `jekyll new myblog`, `myblog` is a folder name which includes all jekyll sites files.\n",
    "    \n",
    "![jekyllnew.jpg](./picture/jekyllnew.jpg)  \n",
    "\n",
    "    As you can see more new files about jekyll sites in the `myblog` folder.\n",
    "![newblog.jpg](./picture/newblog.jpg)\n",
    "\n"
   ]
  },
  {
   "cell_type": "markdown",
   "metadata": {},
   "source": [
    "## Build the site and make it available on a local sever"
   ]
  },
  {
   "cell_type": "markdown",
   "metadata": {},
   "source": [
    "**Build the site and make it available on a local sever**\n",
    "\n",
    "   Change into your new directory by `cd myblog`\n",
    "   \n",
    "   build the site `bundle exec jekyll serve`\n",
    "   \n",
    "![jekyllbuilde.jpg](./picture/jekyllbuilde.jpg)\n",
    "\n",
    "**Now browse to** http://localhost:4000 \n",
    "\n",
    "![firstpage.jpg](./picture/firstpage.jpg)\n"
   ]
  },
  {
   "cell_type": "markdown",
   "metadata": {},
   "source": [
    "## Figure out those files means"
   ]
  },
  {
   "cell_type": "markdown",
   "metadata": {},
   "source": [
    "**Figure out those files means**\n",
    "\n",
    "Of course you will find out `myblog` folder will have `_site` new folder, this folder built after you run `bundle exec jekyll serve`.\n",
    "![newblog2.jpg](./picture/newblog2.jpg)\n",
    "So what are functions about those files, you must want to know. Then I suggest you see web https://jekyllrb.com/docs/structure/ to know that.\n"
   ]
  },
  {
   "cell_type": "markdown",
   "metadata": {},
   "source": [
    "# change to your personal blog"
   ]
  },
  {
   "cell_type": "markdown",
   "metadata": {},
   "source": [
    "We still use Blog which build on step2 `Create a new jekyll site at ./mybolg`."
   ]
  },
  {
   "cell_type": "markdown",
   "metadata": {},
   "source": [
    "## The interface I want to change"
   ]
  },
  {
   "cell_type": "markdown",
   "metadata": {},
   "source": [
    "**The interface I want to change:**\n",
    "![change1.jpg](./picture/change1.jpg)\n",
    "\n",
    "Where we can change and the interface will be change to what I want, **open `_config.yml` file** edited by Notepad++ or other softwares.\n",
    "And we can change it like that:\n",
    "![change2.jpg](./picture/change2.jpg)"
   ]
  },
  {
   "cell_type": "markdown",
   "metadata": {},
   "source": [
    "## what I changed in `_config.yml`"
   ]
  },
  {
   "cell_type": "markdown",
   "metadata": {},
   "source": [
    "**That is what I changed in `_config.yml`**\n",
    "![change3.jpg](./picture/change3.jpg)"
   ]
  },
  {
   "cell_type": "markdown",
   "metadata": {},
   "source": [
    "## Check what I changed"
   ]
  },
  {
   "cell_type": "markdown",
   "metadata": {},
   "source": [
    "**Check what I changed**\n",
    "\n",
    "after changed,via `bundle exec jekyll serve` in `command prompt window` to run jekyll sites, and browse to http://localhost:4000 .\n",
    "![change4.jpg](./picture/change4.jpg)\n"
   ]
  },
  {
   "cell_type": "markdown",
   "metadata": {},
   "source": [
    "About `_config.yml`, you can see more in [here](https://jekyllrb.com/docs/configuration/)"
   ]
  },
  {
   "cell_type": "markdown",
   "metadata": {},
   "source": [
    "# Liquid"
   ]
  },
  {
   "cell_type": "markdown",
   "metadata": {},
   "source": [
    "You must learn liquid when you use jekyll to build your blog. Here I copy from https://jekyllrb.com/docs/step-by-step/02-liquid/ to introduce Liquid.\n"
   ]
  },
  {
   "cell_type": "markdown",
   "metadata": {},
   "source": [
    "## What is Liquid?"
   ]
  },
  {
   "cell_type": "markdown",
   "metadata": {},
   "source": [
    "**What is Liquid?**\n",
    "\n",
    "Liquid is where Jekyll starts to get more interesting. Liquid is a templating language which has three main parts: objects, tags and filters."
   ]
  },
  {
   "cell_type": "markdown",
   "metadata": {},
   "source": [
    "## Object"
   ]
  },
  {
   "cell_type": "markdown",
   "metadata": {},
   "source": [
    "**Object**\n",
    "\n",
    "Objects tell Liquid where to output content. They’re denoted by double curly braces: `{{ `and` }}`. For example:\n",
    "\n",
    "`{{ page.title }}`\n",
    "\n",
    "Outputs a variable called `page.title` on the page."
   ]
  },
  {
   "cell_type": "markdown",
   "metadata": {},
   "source": [
    "## Tags"
   ]
  },
  {
   "cell_type": "markdown",
   "metadata": {},
   "source": [
    "**Tags**\n",
    "\n",
    "Tags create the logic and control flow for templates. They are denoted by curly braces and percent signs: `{%` and `%}`. For example:\n"
   ]
  },
  {
   "cell_type": "raw",
   "metadata": {},
   "source": [
    "{% if page.show_sidebar %}\n",
    "  <div class=\"sidebar\">\n",
    "    sidebar content\n",
    "  </div>\n",
    "{% endif %}"
   ]
  },
  {
   "cell_type": "markdown",
   "metadata": {},
   "source": [
    "Outputs the sidebar if `page.show_sidebar` is true. You can learn more about the tags available to Jekyll here.\n"
   ]
  },
  {
   "cell_type": "markdown",
   "metadata": {},
   "source": [
    "## Filters"
   ]
  },
  {
   "cell_type": "markdown",
   "metadata": {},
   "source": [
    "**Filters**\n",
    "\n",
    "Filters change the output of a Liquid object. They are used within an output and are separated by a ` | `. For example:\n",
    "\n",
    "`{{ \"hi\" | capitalize }}`\n",
    "\n",
    "Outputs `Hi`. You can learn more about the filters available to Jekyll here.\n"
   ]
  },
  {
   "cell_type": "markdown",
   "metadata": {},
   "source": [
    "## Use Liquid"
   ]
  },
  {
   "cell_type": "markdown",
   "metadata": {},
   "source": [
    "**Use Liquid**\n",
    "\n",
    "Now it’s your turn, change the Hello World! on your page to output as lowercase:"
   ]
  },
  {
   "cell_type": "raw",
   "metadata": {},
   "source": [
    "...\n",
    "<h1>{{ \"Hello World!\" | downcase }}</h1>\n",
    "..."
   ]
  },
  {
   "cell_type": "markdown",
   "metadata": {},
   "source": [
    "It may not seem like it now, but much of Jekyll’s power comes from combining Liquid with other features."
   ]
  },
  {
   "cell_type": "markdown",
   "metadata": {},
   "source": [
    "**Notes:**\n",
    "More Tags and filters learning you can get from https://jekyllrb.com/docs/liquid/filters/ and  https://jekyllrb.com/docs/liquid/tags/ ."
   ]
  },
  {
   "cell_type": "markdown",
   "metadata": {},
   "source": [
    "# Layout"
   ]
  },
  {
   "cell_type": "markdown",
   "metadata": {},
   "source": [
    "You can learn Layout from https://jekyllrb.com/docs/step-by-step/04-layouts/ .\n",
    "\n",
    "\n",
    "Layouts are templates that wrap around your content. They live in a directory called `_layouts`.\n",
    "\n",
    "Create my first layout at `_layouts/default.html` with the following content:"
   ]
  },
  {
   "cell_type": "raw",
   "metadata": {},
   "source": [
    "<!doctype html>\n",
    "<html>\n",
    "  <head>\n",
    "    <meta charset=\"utf-8\">\n",
    "    <title>{{ page.title }}</title>\n",
    "  </head>\n",
    "  <body>\n",
    "     <h1>{{ page.title }}</h1>\n",
    "    {{ content }}\n",
    "  </body>\n",
    "</html>"
   ]
  },
  {
   "cell_type": "markdown",
   "metadata": {},
   "source": [
    "# create  a post"
   ]
  },
  {
   "cell_type": "markdown",
   "metadata": {},
   "source": [
    "## Posts"
   ]
  },
  {
   "cell_type": "markdown",
   "metadata": {},
   "source": [
    "**Posts**\n",
    "\n",
    "Blogging is baked into Jekyll. You write blog posts as text files and Jekyll provides everything you need to turn it into a blog."
   ]
  },
  {
   "cell_type": "markdown",
   "metadata": {},
   "source": [
    "## The Posts Folder"
   ]
  },
  {
   "cell_type": "markdown",
   "metadata": {},
   "source": [
    "**The Posts Folder**\n",
    "\n",
    "The `_posts` folder is where your blog posts live. You typically write posts in Markdown, HTML is also supported.\n",
    "\n"
   ]
  },
  {
   "cell_type": "markdown",
   "metadata": {},
   "source": [
    "## Posts name format"
   ]
  },
  {
   "cell_type": "code",
   "execution_count": null,
   "metadata": {},
   "outputs": [],
   "source": [
    "**Posts name format**\n",
    "\n",
    "To create a post, add a file to your `_posts` directory with the following format:\n",
    "\n",
    "`YEAR-MONTH-DAY-title.MARKUP`\n",
    "\n",
    "Where `YEAR` is a four-digit number, `MONTH` and `DAY` are both two-digit numbers, and `MARKUP` is the file extension representing the format used in the file. \n",
    "\n",
    "example:\n",
    "\n",
    "`2011-12-31-new-years-eve-is-awesome.md`\n",
    "\n",
    "`2012-09-12-how-to-write-a-blog.md`\n",
    "\n",
    "\n"
   ]
  },
  {
   "cell_type": "markdown",
   "metadata": {},
   "source": [
    "## front matter"
   ]
  },
  {
   "cell_type": "markdown",
   "metadata": {},
   "source": [
    "**front matter**\n",
    "\n",
    "All blog post files must begin with `front matter` which is typically used to set a `layout` or other meta data. \n",
    "\n",
    "For my example set the name `2019-06-13-firstBlog.md` this can just be empty:\n"
   ]
  },
  {
   "cell_type": "raw",
   "metadata": {},
   "source": [
    "---\n",
    "layout: default\n",
    "title:  \"Welcome to myBlog\"\n",
    "---\n",
    "\n",
    "# Welcome\n",
    "\n",
    "**Hello world**, this is my first Jekyll blog post.\n",
    "\n",
    "I hope you like it!"
   ]
  },
  {
   "cell_type": "markdown",
   "metadata": {},
   "source": [
    "## insert images"
   ]
  },
  {
   "cell_type": "markdown",
   "metadata": {},
   "source": [
    "Let us make more things in my first blog, we learn to insert images and sources.\n",
    "\n",
    "**insert images**\n",
    "\n",
    "The commom solution is to create a folder in the root of the project directtory called something like `assets`, into which any images,files or other resources are placed. Then, from within any post, they can be linked to using the site's root as the path for the asset to include.\n",
    "\n",
    "here I show you the way to insert images:"
   ]
  },
  {
   "cell_type": "raw",
   "metadata": {},
   "source": [
    "**I want to show you a picture**\n",
    "\n",
    "![quanzhixian.jpg](/assets/quanzhixian.jpg)"
   ]
  },
  {
   "cell_type": "markdown",
   "metadata": {},
   "source": [
    "## Link files to download"
   ]
  },
  {
   "cell_type": "markdown",
   "metadata": {},
   "source": [
    "**Link files to download**\n",
    "\n",
    "And linking to a PDF for readers to download:"
   ]
  },
  {
   "cell_type": "raw",
   "metadata": {},
   "source": [
    "You can get [neo4j graph database](/assets/pdfFiles/Graph_Databases_2e_Neo4j.pdf) directly."
   ]
  },
  {
   "cell_type": "markdown",
   "metadata": {},
   "source": [
    "## write codes "
   ]
  },
  {
   "cell_type": "markdown",
   "metadata": {},
   "source": [
    "You must want to know how to write codes. Here is an example to show you my html code, the simple example:\n"
   ]
  },
  {
   "cell_type": "raw",
   "metadata": {},
   "source": [
    "```\n",
    "<!DOCTYPE html>\n",
    "<html>\n",
    "<head> \n",
    "<meta charset=\"utf-8\"> \n",
    "<title>菜鸟教程(runoob.com)</title> \n",
    "</head>\n",
    "<body>\n",
    "\n",
    "<video width=\"320\" height=\"240\" controls>\n",
    "  <source src=\"movie.mp4\" type=\"video/mp4\">\n",
    "  <source src=\"movie.ogg\" type=\"video/ogg\">\n",
    "  您的浏览器不支持 HTML5 video 标签。\n",
    "</video>\n",
    "\n",
    "</body>\n",
    "</html>\n",
    "```"
   ]
  },
  {
   "cell_type": "markdown",
   "metadata": {},
   "source": [
    "The other way is use highlight tag to highlight your codes. For example, my codes is R:"
   ]
  },
  {
   "cell_type": "raw",
   "metadata": {},
   "source": [
    "The other way is use highlight tag to highlight your codes. For example, my codes is R,:\n",
    "\n",
    "{% highlight r %}\n",
    "plot(sft$fitIndices[,1], -sign(sft$fitIndices[,3])*sft$fitIndices[,2],\n",
    "     xlab=\"Soft Threshold (power)\",ylab=\"Scale Free Topology Model Fit,signed R^2\",type=\"n\",\n",
    "     main = paste(\"Scale independence\"));\n",
    "text(sft$fitIndices[,1], -sign(sft$fitIndices[,3])*sft$fitIndices[,2],\n",
    "     labels=powers,cex=cex1,col=\"red\");\n",
    "{% endhighlight%}"
   ]
  },
  {
   "cell_type": "markdown",
   "metadata": {},
   "source": [
    "Notes: \n",
    "    You should learn more about `creat a post` on [web](https://jekyllrb.com/docs/posts/)"
   ]
  },
  {
   "cell_type": "markdown",
   "metadata": {},
   "source": [
    "## All contents in This post "
   ]
  },
  {
   "cell_type": "markdown",
   "metadata": {},
   "source": [
    "The file `2019-06-13-firstBlog.md` content as following:"
   ]
  },
  {
   "cell_type": "raw",
   "metadata": {},
   "source": [
    "---\n",
    "layout: default\n",
    "title:  \"Welcome to myBlog\"\n",
    "---\n",
    "\n",
    "# Welcome\n",
    "\n",
    "**Hello world**, this is my first Jekyll blog post.\n",
    "\n",
    "I hope you like it!\n",
    "\n",
    "**I want to show you a picture**\n",
    "\n",
    "![quanzhixian.jpg](/assets/quanzhixian.jpg)\n",
    "\n",
    "You can get [neo4j graph database](/assets/pdfFiles/Graph_Databases_2e_Neo4j.pdf) directly.\n",
    "\n",
    "You must want to know how to write codes. Here is an example to show you my html code, the simple example:\n",
    "```\n",
    "<!DOCTYPE html>\n",
    "<html>\n",
    "<head> \n",
    "<meta charset=\"utf-8\"> \n",
    "<title>菜鸟教程(runoob.com)</title> \n",
    "</head>\n",
    "<body>\n",
    "\n",
    "<video width=\"320\" height=\"240\" controls>\n",
    "  <source src=\"movie.mp4\" type=\"video/mp4\">\n",
    "  <source src=\"movie.ogg\" type=\"video/ogg\">\n",
    "  您的浏览器不支持 HTML5 video 标签。\n",
    "</video>\n",
    "\n",
    "</body>\n",
    "</html>\n",
    "```\n",
    "\n",
    "The other way is use highlight tag to highlight your codes. For example, my codes is R,:\n",
    "\n",
    "{% highlight r %}\n",
    "plot(sft$fitIndices[,1], -sign(sft$fitIndices[,3])*sft$fitIndices[,2],\n",
    "     xlab=\"Soft Threshold (power)\",ylab=\"Scale Free Topology Model Fit,signed R^2\",type=\"n\",\n",
    "     main = paste(\"Scale independence\"));\n",
    "text(sft$fitIndices[,1], -sign(sft$fitIndices[,3])*sft$fitIndices[,2],\n",
    "     labels=powers,cex=cex1,col=\"red\");\n",
    "{% endhighlight%}\n"
   ]
  },
  {
   "cell_type": "markdown",
   "metadata": {},
   "source": [
    "## check the post"
   ]
  },
  {
   "cell_type": "markdown",
   "metadata": {},
   "source": [
    "**Now, let us see we build the new post.**\n",
    "\n",
    "In terminal, input the command:\n",
    "    \n",
    "`bundle exec jekyll serve`\n",
    "\n",
    "**MyTips:** \n",
    "\n",
    "   Once you run the command `bundle exec jekyll serve`, you  can make change and save files, then direcltly check on browse without rerun the command `bundle exec jekyll serve`.\n",
    "\n",
    "   But if change contents in files `_config.yml` or `_layout` folder, you, you need to rerun the command."
   ]
  },
  {
   "cell_type": "markdown",
   "metadata": {},
   "source": [
    "![change5.jpg](./picture/change5.jpg)\n",
    "![change6.jpg](./picture/change6.jpg)"
   ]
  },
  {
   "cell_type": "markdown",
   "metadata": {},
   "source": [
    "# Jekyll themes"
   ]
  },
  {
   "cell_type": "markdown",
   "metadata": {},
   "source": [
    "Jekyll is popular in the world. So it will have more themes to give us as templetes. We can select themes on [here](http://jekyllthemes.org/) .\n",
    "\n",
    "![change7.jpg](./picture/change7.jpg)"
   ]
  },
  {
   "cell_type": "markdown",
   "metadata": {},
   "source": [
    "# gsa-blog theme source"
   ]
  },
  {
   "cell_type": "markdown",
   "metadata": {},
   "source": [
    "Gsa-blog theme selected on https://huangxuan.me/ \n",
    "\n",
    "I had made some changes `gsa-blog`.\n",
    "\n",
    "Now you can download my github repository [`gsa-blog.github.io`](https://github.com/gsa-blog/gsa-blog.github.io/archive/master.zip)\n",
    "\n",
    "Unzip this files.\n",
    "\n",
    "Or you can use gitbash to copy this repository via `git clone git@github.com:gsa-blog/gsa-blog.github.io.git` .\n"
   ]
  },
  {
   "cell_type": "markdown",
   "metadata": {},
   "source": [
    "# gsa-blog runing on local computer\n"
   ]
  },
  {
   "cell_type": "markdown",
   "metadata": {},
   "source": [
    "Acturely I suggest you see the [blog web](http://gsa-blog.github.io), and try to change gsa-blog contents by yourself."
   ]
  },
  {
   "cell_type": "markdown",
   "metadata": {},
   "source": [
    "## Install ruby"
   ]
  },
  {
   "cell_type": "markdown",
   "metadata": {},
   "source": [
    "It'is the first step,you can see the previous content `jekyll on windows` in this tutorial."
   ]
  },
  {
   "cell_type": "markdown",
   "metadata": {},
   "source": [
    "## Install jekyll"
   ]
  },
  {
   "cell_type": "markdown",
   "metadata": {},
   "source": [
    "It'is the second step,you can see the previous content `jekyll on windows` in this tutorial."
   ]
  },
  {
   "cell_type": "markdown",
   "metadata": {},
   "source": [
    "## Error: jekyll-paginate"
   ]
  },
  {
   "cell_type": "markdown",
   "metadata": {},
   "source": [
    "**Maybe you fill get this error:**"
   ]
  },
  {
   "cell_type": "raw",
   "metadata": {},
   "source": [
    "Dependency Error: Yikes! It looks like you don’t have jekyll-paginate or one of its dependencies installed. In order to use Jekyll as currently configured, you’ll need to install this gem. The full error message from Ruby is: ‘cannot load such file – jekyll-paginate’ If you run into trouble, you can find helpful resources at Getting Help\n",
    "\n",
    "jekyll 3.1.2 | Error: jekyll-paginate"
   ]
  },
  {
   "cell_type": "markdown",
   "metadata": {},
   "source": [
    "We need to input the command to fix the bug:\n",
    "    \n",
    " `gem install jekyll-paginate`"
   ]
  },
  {
   "cell_type": "markdown",
   "metadata": {},
   "source": [
    "## run gsa-blog"
   ]
  },
  {
   "cell_type": "markdown",
   "metadata": {},
   "source": [
    "Open a new command Open a new command prompt window from the start menu, so that changes to the gsa-blog directory. run gsa-blog via:  `bundle exec jekyll serve`\n",
    "\n",
    "After that, you can browse http://localhost:4000 to see gsa-blog home page.\n",
    "\n",
    "**MyTips:** \n",
    "\n",
    "   Once you run the command `bundle exec jekyll serve`, you  can make change and save files, then direcltly check on browse without rerun the command `bundle exec jekyll serve`.\n",
    "\n",
    "   But if change contents in files `_config.yml` or `_layout` folder, you, you need to rerun the command.\n",
    "   "
   ]
  },
  {
   "cell_type": "markdown",
   "metadata": {},
   "source": [
    "# change gsa-blog contents"
   ]
  },
  {
   "cell_type": "markdown",
   "metadata": {},
   "source": [
    "## _congfig.html"
   ]
  },
  {
   "cell_type": "markdown",
   "metadata": {},
   "source": [
    "We need change something in `_config.yml`.\n",
    "![gsa1.png](./picture/gsa1.png)\n",
    "\n",
    "**Email:** I use my Email because I need to test, but you can change our lab email or others. \n",
    "\n",
    "**header-img**: As i said, I really hope you change picture in `img` folder with the same picture name.\n",
    "            And others picture changing should do the same way.\n",
    "        \n",
    "**description:** We can change.\n",
    "\n",
    "**github,fackbook:** If we don't have, I suggest via `#`.\n",
    "\n",
    "**google analytics**\n",
    "\n",
    "**Sidebar settings**\n",
    "![gsa2.jpg](./picture/gsa2.jpg)   \n",
    "\n",
    "**friend Tags**\n",
    "![gsa3.jpg](./picture/gsa3.jpg)   "
   ]
  },
  {
   "cell_type": "markdown",
   "metadata": {},
   "source": [
    "## index.html"
   ]
  },
  {
   "cell_type": "markdown",
   "metadata": {},
   "source": [
    "This page is gsa-blog home page.\n",
    "\n",
    "I only suggest to change the box contents in the picture.\n",
    "\n",
    "![gsa4.jpg](./picture/gsa4.jpg)"
   ]
  },
  {
   "cell_type": "markdown",
   "metadata": {},
   "source": [
    "## gsacentral.html"
   ]
  },
  {
   "cell_type": "markdown",
   "metadata": {},
   "source": [
    "Acturally, we should build this html by ourself.\n",
    "\n",
    "The page now sees like:\n",
    "\n",
    "![gsa5.png](./picture/gsa5.png)"
   ]
  },
  {
   "cell_type": "markdown",
   "metadata": {},
   "source": [
    "## our.html"
   ]
  },
  {
   "cell_type": "markdown",
   "metadata": {},
   "source": [
    "**description**\n",
    "\n",
    "![gsa6.png](./picture/gsa6.png)\n",
    "\n",
    "\n",
    "**Language Selector**\n",
    "\n",
    "![gsa7.png](./picture/gsa7.png)\n",
    "\n",
    "**I suggest don't change Others codes in this files.**\n",
    "\n",
    "\n",
    "**The body/contents changes**\n",
    "Of course you want to change the contents about the about us web page, but the contents is live on `_includes/about/zh.md` and `_includes/about/en.md`.\n",
    "So you should go to change contents in those two files, **Not change at this files.**\n",
    "\n",
    "![gsa8.png](./picture/gsa8.png)"
   ]
  },
  {
   "cell_type": "markdown",
   "metadata": {},
   "source": [
    "## 404.html"
   ]
  },
  {
   "cell_type": "markdown",
   "metadata": {},
   "source": [
    "**description**\n",
    "\n",
    "**img**\n",
    "![gsa9.png](./picture/gsa9.png)"
   ]
  },
  {
   "cell_type": "markdown",
   "metadata": {},
   "source": [
    "## package.json"
   ]
  },
  {
   "cell_type": "markdown",
   "metadata": {},
   "source": [
    "I suggest you search `package.json` better than what I explain. I didn't change anything in this file."
   ]
  },
  {
   "cell_type": "markdown",
   "metadata": {},
   "source": [
    "## README.md and README.zh.md"
   ]
  },
  {
   "cell_type": "markdown",
   "metadata": {},
   "source": [
    "Those two file are prepare for github `readme.md`. The author use two version to introduce his repository.\n",
    "\n",
    "If you don't like or change `README.zh.md`, you can delete this file.\n",
    "\n",
    "Also, If you don't like or change `README.md`, you can delete this file, but you need to build a new 'README.md' to introduce this repository."
   ]
  },
  {
   "cell_type": "markdown",
   "metadata": {},
   "source": [
    "## LICENSE"
   ]
  },
  {
   "cell_type": "markdown",
   "metadata": {},
   "source": [
    "This file is statement that author want to say he built this jekyll theme.\n",
    "\n",
    "By the way, I had **change the foot in all page**, so it will link to Antonio Mora github and this repository.\n",
    "\n",
    "It is the same number to see how many people favorite(star) this repository.\n",
    "\n",
    "![gsa10.png](./picture/gsa10.png)"
   ]
  },
  {
   "cell_type": "markdown",
   "metadata": {},
   "source": [
    "## _layout folder"
   ]
  },
  {
   "cell_type": "markdown",
   "metadata": {},
   "source": [
    "`_layout` folder is design for all our page structures. If you want create a new, you can try such like in the front way I tell you.\n",
    "\n",
    "For now, I don't suggest you create or change unless you have good page to perform.\n"
   ]
  },
  {
   "cell_type": "markdown",
   "metadata": {},
   "source": [
    "## _includes"
   ]
  },
  {
   "cell_type": "markdown",
   "metadata": {},
   "source": [
    "I want to say `_includes` is including modules, you can select in this folder to build your page.\n",
    "\n",
    "**Notes: If you change file in the this folder, the change maybe cover all page.**"
   ]
  },
  {
   "cell_type": "markdown",
   "metadata": {},
   "source": [
    "## _posts "
   ]
  },
  {
   "cell_type": "markdown",
   "metadata": {},
   "source": [
    "All of your posts must live in `_post` folder, and the name format must be like  `YEAR-MONTH-DAY-title.MARKUP`, you can see the content `create a post` in this toturial.\n",
    "\n",
    "**Notes: The file format must is `.md`.**\n",
    "\n",
    "Here I still left some post to give you as example to write your posts.\n",
    "\n",
    "When you think you are good to write your post, I suggest you should delete all of them.\n",
    "\n",
    "**Notes: Every files in `_post` folder should have `front matter`.**\n",
    "\n",
    "![gsa11.png](./picture/gsa11.png)\n"
   ]
  },
  {
   "cell_type": "markdown",
   "metadata": {},
   "source": [
    "# img"
   ]
  },
  {
   "cell_type": "markdown",
   "metadata": {},
   "source": [
    "`img` folder is store all picture in page. I suggest we should clearly store all post pictures in case to delete or change."
   ]
  },
  {
   "cell_type": "markdown",
   "metadata": {},
   "source": [
    "# End"
   ]
  },
  {
   "cell_type": "markdown",
   "metadata": {},
   "source": [
    "Thank you reading and practice."
   ]
  },
  {
   "cell_type": "code",
   "execution_count": null,
   "metadata": {},
   "outputs": [],
   "source": []
  }
 ],
 "metadata": {
  "kernelspec": {
   "display_name": "Python 3",
   "language": "python",
   "name": "python3"
  },
  "language_info": {
   "codemirror_mode": {
    "name": "ipython",
    "version": 3
   },
   "file_extension": ".py",
   "mimetype": "text/x-python",
   "name": "python",
   "nbconvert_exporter": "python",
   "pygments_lexer": "ipython3",
   "version": "3.7.1"
  },
  "toc": {
   "base_numbering": 1,
   "nav_menu": {},
   "number_sections": true,
   "sideBar": true,
   "skip_h1_title": false,
   "title_cell": "Table of Contents",
   "title_sidebar": "Contents",
   "toc_cell": false,
   "toc_position": {
    "height": "calc(100% - 180px)",
    "left": "10px",
    "top": "150px",
    "width": "262.792px"
   },
   "toc_section_display": true,
   "toc_window_display": true
  }
 },
 "nbformat": 4,
 "nbformat_minor": 2
}
