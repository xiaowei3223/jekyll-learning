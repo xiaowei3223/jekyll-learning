{
 "cells": [
  {
   "cell_type": "markdown",
   "metadata": {},
   "source": [
    "# 控制流"
   ]
  },
  {
   "cell_type": "markdown",
   "metadata": {},
   "source": [
    "控制流标签可以使用编程逻辑更改Liquid显示的信息。"
   ]
  },
  {
   "cell_type": "markdown",
   "metadata": {},
   "source": [
    "## IF"
   ]
  },
  {
   "cell_type": "markdown",
   "metadata": {},
   "source": [
    "仅在某种情况下才执行代码块true。"
   ]
  },
  {
   "cell_type": "markdown",
   "metadata": {},
   "source": [
    "###### Input"
   ]
  },
  {
   "cell_type": "raw",
   "metadata": {},
   "source": [
    "{% if product.title == 'Awesome Shoes' %}\n",
    "  These shoes are awesome!\n",
    "{% endif %}"
   ]
  },
  {
   "cell_type": "markdown",
   "metadata": {},
   "source": [
    "###### Output"
   ]
  },
  {
   "cell_type": "raw",
   "metadata": {},
   "source": [
    "These shoes are awesome!"
   ]
  },
  {
   "cell_type": "markdown",
   "metadata": {},
   "source": [
    "## unless"
   ]
  },
  {
   "cell_type": "markdown",
   "metadata": {},
   "source": [
    "跟if相反，执行仅当某个条件的代码块不满足。"
   ]
  },
  {
   "cell_type": "markdown",
   "metadata": {},
   "source": [
    "###### Input"
   ]
  },
  {
   "cell_type": "raw",
   "metadata": {},
   "source": [
    "{% unless product.title == 'Awesome Shoes' %}\n",
    "  These shoes are not awesome.\n",
    "{% endunless %}\n"
   ]
  },
  {
   "cell_type": "markdown",
   "metadata": {},
   "source": [
    "###### Output"
   ]
  },
  {
   "cell_type": "raw",
   "metadata": {},
   "source": [
    "These shoes are not awesome."
   ]
  },
  {
   "cell_type": "markdown",
   "metadata": {},
   "source": [
    "这相当于执行以下操作："
   ]
  },
  {
   "cell_type": "raw",
   "metadata": {},
   "source": [
    "{% if product.title != 'Awesome Shoes' %}\n",
    "  These shoes are not awesome.\n",
    "{% endif %}\n"
   ]
  },
  {
   "cell_type": "markdown",
   "metadata": {},
   "source": [
    "## elsif / else\n"
   ]
  },
  {
   "cell_type": "markdown",
   "metadata": {},
   "source": [
    "在块if或unless块中添加更多条件。"
   ]
  },
  {
   "cell_type": "markdown",
   "metadata": {},
   "source": [
    "###### Input"
   ]
  },
  {
   "cell_type": "raw",
   "metadata": {},
   "source": [
    "\n",
    "<!-- If customer.name = 'anonymous' -->\n",
    "{% if customer.name == 'kevin' %}\n",
    "  Hey Kevin!\n",
    "{% elsif customer.name == 'anonymous' %}\n",
    "  Hey Anonymous!\n",
    "{% else %}\n",
    "  Hi Stranger!\n",
    "{% endif %}"
   ]
  },
  {
   "cell_type": "markdown",
   "metadata": {},
   "source": [
    "###### Output"
   ]
  },
  {
   "cell_type": "raw",
   "metadata": {},
   "source": [
    "Hey Anonymous!"
   ]
  },
  {
   "cell_type": "markdown",
   "metadata": {},
   "source": [
    "## case/when"
   ]
  },
  {
   "cell_type": "markdown",
   "metadata": {},
   "source": [
    "创建switch语句以比较具有不同值的变量。case初始化switch语句，并when比较其值。"
   ]
  },
  {
   "cell_type": "markdown",
   "metadata": {},
   "source": [
    "###### Input"
   ]
  },
  {
   "cell_type": "raw",
   "metadata": {},
   "source": [
    "{% assign handle = 'cake' %}\n",
    "{% case handle %}\n",
    "  {% when 'cake' %}\n",
    "     This is a cake\n",
    "  {% when 'cookie' %}\n",
    "     This is a cookie\n",
    "  {% else %}\n",
    "     This is not a cake nor a cookie\n",
    "{% endcase %}\n"
   ]
  },
  {
   "cell_type": "markdown",
   "metadata": {},
   "source": [
    "###### Output"
   ]
  },
  {
   "cell_type": "raw",
   "metadata": {},
   "source": [
    "This is a cake"
   ]
  },
  {
   "cell_type": "code",
   "execution_count": null,
   "metadata": {},
   "outputs": [],
   "source": []
  }
 ],
 "metadata": {
  "kernelspec": {
   "display_name": "Python 3",
   "language": "python",
   "name": "python3"
  },
  "language_info": {
   "codemirror_mode": {
    "name": "ipython",
    "version": 3
   },
   "file_extension": ".py",
   "mimetype": "text/x-python",
   "name": "python",
   "nbconvert_exporter": "python",
   "pygments_lexer": "ipython3",
   "version": "3.7.1"
  }
 },
 "nbformat": 4,
 "nbformat_minor": 2
}
