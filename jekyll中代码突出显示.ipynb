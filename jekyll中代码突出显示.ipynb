{
 "cells": [
  {
   "cell_type": "markdown",
   "metadata": {},
   "source": [
    "Jekyll支持100多种语言的语法突出显示。 \n",
    "\n",
    "jekyll3及以上版本默认为荧光笔。\n",
    "\n",
    "jekyll2，设置用`highlighter`来`rouge`，并确保`rouge` gem已经安装。\n",
    "\n",
    "另外，还可以使用`Pygments`来突出显示代码。但是，使用之前电脑系统必须已经安装Python，之后才能安装`pygments.rb` gem，然后在你的configuration文件中设置`highlighter`为`pygments`。`pygments`支持超过100钟语言。\n",
    "\n",
    "   configuration 设置：  `highlighter: pygments`\n",
    "\n",
    "\n"
   ]
  },
  {
   "cell_type": "markdown",
   "metadata": {},
   "source": [
    "# 要使用语法高亮显示代码块，请按如下方式："
   ]
  },
  {
   "cell_type": "raw",
   "metadata": {},
   "source": [
    "{% highlight ruby %}\n",
    "def foo\n",
    "  puts 'foo'\n",
    "end\n",
    "{% endhighlight %}"
   ]
  },
  {
   "cell_type": "markdown",
   "metadata": {},
   "source": [
    "highlight标签的参数（上面ruby是一个例子）是一种语言识别器（identifier）。\n",
    "\n",
    "为了找到更合适的识别器（identifier），请查看[Rouge wiki](https://github.com/jayferd/rouge/wiki/List-of-supported-languages-and-lexers)或者 [Pygments'Lexers page](http://pygments.org/docs/lexers/)上的“short name”"
   ]
  },
  {
   "cell_type": "markdown",
   "metadata": {},
   "source": [
    "**如果你使用的语言包含了大括号，需要在你的代码中使用`{% raw %}`和`{%endraw%}`**"
   ]
  },
  {
   "cell_type": "markdown",
   "metadata": {},
   "source": [
    "# Line numbers"
   ]
  },
  {
   "cell_type": "markdown",
   "metadata": {},
   "source": [
    "`highlight`的第二个参数是`linenos`, 使用了这个参数之后会强制要求突出显示的代码中包含line numbers。\n",
    "\n",
    "比如，下面的例子会在每一行会包含line number："
   ]
  },
  {
   "cell_type": "raw",
   "metadata": {},
   "source": [
    "{% highlight ruby linenos %}\n",
    "def foo\n",
    "  puts 'foo'\n",
    "end\n",
    "{% endhighlight %}"
   ]
  },
  {
   "cell_type": "markdown",
   "metadata": {},
   "source": [
    "# Stylesheets for syntax highlighting （突出显示代码样式选择）"
   ]
  },
  {
   "cell_type": "markdown",
   "metadata": {},
   "source": [
    "使用pygments或者Rouge突出显示代码，可以在[这里](http://help.farbox.com/pygments.html)找到突出显示代码的样式的相关例子"
   ]
  },
  {
   "cell_type": "code",
   "execution_count": null,
   "metadata": {},
   "outputs": [],
   "source": []
  }
 ],
 "metadata": {
  "kernelspec": {
   "display_name": "Python 3",
   "language": "python",
   "name": "python3"
  },
  "language_info": {
   "codemirror_mode": {
    "name": "ipython",
    "version": 3
   },
   "file_extension": ".py",
   "mimetype": "text/x-python",
   "name": "python",
   "nbconvert_exporter": "python",
   "pygments_lexer": "ipython3",
   "version": "3.7.1"
  },
  "toc": {
   "base_numbering": 1,
   "nav_menu": {},
   "number_sections": true,
   "sideBar": true,
   "skip_h1_title": false,
   "title_cell": "Table of Contents",
   "title_sidebar": "Contents",
   "toc_cell": false,
   "toc_position": {},
   "toc_section_display": true,
   "toc_window_display": false
  }
 },
 "nbformat": 4,
 "nbformat_minor": 2
}
