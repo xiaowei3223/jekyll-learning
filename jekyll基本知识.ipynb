{
 "cells": [
  {
   "cell_type": "markdown",
   "metadata": {},
   "source": [
    "Jekyll是一个静态站点生成器，因此我们需要Jekyll才能构建站点，然后才能查看它。可以在站点的根目录中运行两个命令来构建它：\n",
    "\n",
    "jekyll build- 构建站点并将静态站点输出到名为的目录_site\n",
    "\n",
    "jekyll serve- 除了重建任何时候进行更改并运行本地Web服务器时，同样的事情http://localhost:4000\n",
    "        \n",
    "        "
   ]
  },
  {
   "cell_type": "markdown",
   "metadata": {},
   "source": [
    "# Liquid"
   ]
  },
  {
   "cell_type": "markdown",
   "metadata": {},
   "source": [
    "Liquid 让jekyll更丰富，它是一种模板语言，有三个主要部分：\n",
    "\n",
    "    objects， tags， filters（对象、标签、过滤器）"
   ]
  },
  {
   "cell_type": "markdown",
   "metadata": {},
   "source": [
    "# Object （对象）"
   ]
  },
  {
   "cell_type": "markdown",
   "metadata": {},
   "source": [
    "Object告诉Liquid输出的内容在那个位置。 用双花括号表示{{  }} 。比如：\n",
    "\n",
    "```\n",
    "{{page.title}}\n",
    "```\n",
    "输出page.title页面上调用的变量。"
   ]
  },
  {
   "cell_type": "markdown",
   "metadata": {},
   "source": [
    "# Tags （标签）"
   ]
  },
  {
   "cell_type": "markdown",
   "metadata": {},
   "source": [
    "标签为模板创建逻辑和控制流程。它们用花括号和百分号表示：{%和 %}。例如：\n",
    "```\n",
    "{% if page.show_sidebar %}\n",
    "  <div class=\"sidebar\">\n",
    "    sidebar content\n",
    "  </div>\n",
    "{% endif %}\n",
    "```\n",
    "如果page.show_sidebar为true，则输出侧栏。您可以在https://jekyllrb.com/docs/liquid/tags/ 了解有关Jekyll可用标签的更多信息。"
   ]
  },
  {
   "cell_type": "markdown",
   "metadata": {},
   "source": [
    "# Filters (过滤器)"
   ]
  },
  {
   "cell_type": "markdown",
   "metadata": {},
   "source": [
    "过滤器更改Liquid对象的输出。它们在输出中由 | 分隔 。例如：\n",
    "```\n",
    "{{ \"hi\" | capitalize }}\n",
    "```\n",
    "输出Hi。您可以在 https://jekyllrb.com/docs/liquid/filters/  了解有关Jekyll可用过滤器的更多信息 。"
   ]
  },
  {
   "cell_type": "markdown",
   "metadata": {},
   "source": [
    "# Use Liquid"
   ]
  },
  {
   "cell_type": "markdown",
   "metadata": {},
   "source": [
    "\n",
    "改变网页上的Hello World字样\n",
    "```\n",
    "...\n",
    "<h1>{{ \"Hello World!\" | downcase }}</h1>\n",
    "...\n",
    "```\n",
    "Jekyll的大部分功能都是Liquid与其他功能的结合。\n"
   ]
  },
  {
   "cell_type": "markdown",
   "metadata": {},
   "source": [
    "# Front Matter"
   ]
  },
  {
   "cell_type": "markdown",
   "metadata": {},
   "source": [
    "Front Matter 是YAML的片段，它位于文件顶部的两条三虚线之间。前面的内容用于页面设置变量，例如：\n",
    "```\n",
    "---\n",
    "my_number: 5\n",
    "---\n",
    "```\n",
    "Front matter变量在page（网页)变量中是适用的。 比如，要输出上面的变量：\n",
    "```\n",
    "{{ page.my_number }}\n",
    "```"
   ]
  },
  {
   "cell_type": "markdown",
   "metadata": {},
   "source": [
    "# Use Front Matter （Front Mattter的使用）"
   ]
  },
  {
   "cell_type": "markdown",
   "metadata": {},
   "source": [
    "比如，改变网页的<title>，使用前端填充："
   ]
  },
  {
   "cell_type": "raw",
   "metadata": {},
   "source": [
    "---\n",
    "title: Home\n",
    "---\n",
    "<!doctype html>\n",
    "<html>\n",
    "  <head>\n",
    "    <meta charset=\"utf-8\">\n",
    "    <title>{{ page.title }}</title>\n",
    "  </head>\n",
    "  <body>\n",
    "    <h1>{{ \"Hello World!\" | downcase }}</h1>\n",
    "  </body>\n",
    "</html>"
   ]
  },
  {
   "cell_type": "markdown",
   "metadata": {},
   "source": [
    "# Layouts （布局）"
   ]
  },
  {
   "cell_type": "markdown",
   "metadata": {},
   "source": [
    "网站通常有多个页面，jelyll 制作的网页也不例外。\n",
    "\n",
    "Jekyll支持Markdown 以及HTML页面。对于具有简单内容结构（仅包含段落，标题和图像）的页面，Markdown是一个很好的选择，因为它比原始HTML更简洁。稍后我们会试一试。"
   ]
  },
  {
   "cell_type": "markdown",
   "metadata": {},
   "source": [
    "在root目录创建about.md\n",
    "\n",
    "对于页面结构，您可以为about页面复制index.html并修改它。这样做的问题是重复的代码。假设您想要为您的网站添加样式表，您必须转到每个页面并将其添加到  <head>。对于一个两页的网站来说，这听起来可能不是那么糟糕，想象一下这样做100页。即使是简单的改变就需要很长时间。\n"
   ]
  },
  {
   "cell_type": "markdown",
   "metadata": {},
   "source": [
    "# Creating a layout （创建一个布局）"
   ]
  },
  {
   "cell_type": "markdown",
   "metadata": {},
   "source": [
    "使用布局是一个很好的选择。Layout（布局）是包含内容的模板。他们都放在_layouts这个文件夹中。\n",
    "\n",
    "使用以下内容创建你的第一个layout（布局）_layouts/default.html"
   ]
  },
  {
   "cell_type": "raw",
   "metadata": {},
   "source": [
    "<!doctype html>\n",
    "<html>\n",
    "  <head>\n",
    "    <meta charset=\"utf-8\">\n",
    "    <title>{{ page.title }}</title>\n",
    "  </head>\n",
    "  <body>\n",
    "    {{ content }}\n",
    "  </body>\n",
    "</html>\n"
   ]
  },
  {
   "cell_type": "markdown",
   "metadata": {},
   "source": [
    "**Notes**\n",
    "\n",
    "这里跟index.html一样，只是少了前面的Front matter以及页面的内容被 content 覆盖了。\n",
    "\n",
    "content是一个特殊变量，可以被调用页面呈现内容。\n",
    "\n",
    "想要index.html使用这个布局，可以在Front matter中的 **layout**设置变量。\n",
    "\n",
    "布局包含页面内容，因此您只需要  index.html："
   ]
  },
  {
   "cell_type": "raw",
   "metadata": {},
   "source": [
    "---\n",
    "layout: default\n",
    "title: Home\n",
    "---\n",
    "<h1>{{ \"Hello World!\" | downcase }}</h1>"
   ]
  },
  {
   "cell_type": "markdown",
   "metadata": {},
   "source": [
    "完成此操作后，输出将与之前完全相同。请注意，您可以从layout中获取**page**的front matter。在这个例子中，**title**是设置在index.htmlde front matter中，但其是在布局中输出。"
   ]
  },
  {
   "cell_type": "markdown",
   "metadata": {},
   "source": [
    "# About page\n"
   ]
  },
  {
   "cell_type": "markdown",
   "metadata": {},
   "source": [
    "回到about page（页面），除了复杂index.html。可以使用layout\n",
    "\n",
    "增加about.md:\n"
   ]
  },
  {
   "cell_type": "raw",
   "metadata": {},
   "source": [
    "---\n",
    "layout: default\n",
    "title: About\n",
    "---\n",
    "# About page\n",
    "\n",
    "This page tells you a little bit about me."
   ]
  },
  {
   "cell_type": "markdown",
   "metadata": {},
   "source": [
    "在浏览器中打开http：// localhost：4000 / about.html并查看新页面"
   ]
  },
  {
   "cell_type": "markdown",
   "metadata": {},
   "source": [
    "# Includes"
   ]
  },
  {
   "cell_type": "markdown",
   "metadata": {},
   "source": [
    "导航应该在每个页面上，因此将其添加到您的布局是正确的位置。我们不是将其直接添加到布局中，而是学习include"
   ]
  },
  {
   "cell_type": "markdown",
   "metadata": {},
   "source": [
    "# Include tag"
   ]
  },
  {
   "cell_type": "markdown",
   "metadata": {},
   "source": [
    "**include** 标签可以让你从包括存储在_includes文件夹的内容。\n",
    "\n",
    "**include**对于源代码的单个源可以在站点周围重复或提高可读性非常有用。\n",
    "\n",
    "导航源代码有时变得复杂，因此将其移动到**include**中会很好。"
   ]
  },
  {
   "cell_type": "markdown",
   "metadata": {},
   "source": [
    "# Include usage （Include用法）"
   ]
  },
  {
   "cell_type": "markdown",
   "metadata": {},
   "source": [
    "使用下面内容创建一个导航源码在**_includes/navigation.html**中"
   ]
  },
  {
   "cell_type": "raw",
   "metadata": {},
   "source": [
    "<nav>\n",
    "  <a href=\"/\">Home</a>\n",
    "  <a href=\"/about.html\">About</a>\n",
    "</nav>"
   ]
  },
  {
   "cell_type": "markdown",
   "metadata": {},
   "source": [
    "使用include标签将导航添加到_layouts/default.html"
   ]
  },
  {
   "cell_type": "raw",
   "metadata": {},
   "source": [
    "<!doctype html>\n",
    "<html>\n",
    "  <head>\n",
    "    <meta charset=\"utf-8\">\n",
    "    <title>{{ page.title }}</title>\n",
    "  </head>\n",
    "  <body>\n",
    "    {% include navigation.html %}\n",
    "    {{ content }}\n",
    "  </body>\n",
    "</html>"
   ]
  },
  {
   "cell_type": "markdown",
   "metadata": {},
   "source": [
    "在浏览器中打开http：// localhost：4000并尝试在页面之间切换"
   ]
  },
  {
   "cell_type": "markdown",
   "metadata": {},
   "source": [
    "# Current page highlighting"
   ]
  },
  {
   "cell_type": "markdown",
   "metadata": {},
   "source": [
    "突出显示导航中的当前页面。\n",
    "\n",
    "_includes/navigation.html需要知道它插入的页面的URL，以便添加样式。Jekyll有一些有用的变量，其中之一就是page.url\n",
    "\n",
    "\n",
    "使用page.url您可以检查每个链接是否是当前页面，如果为真，则将其着色为红色"
   ]
  },
  {
   "cell_type": "raw",
   "metadata": {},
   "source": [
    "<nav>\n",
    "  <a href=\"/\" {% if page.url == \"/\" %}style=\"color: red;\"{% endif %}>\n",
    "    Home\n",
    "  </a>\n",
    "  <a href=\"/about.html\" {% if page.url == \"/about.html\" %}style=\"color: red;\"{% endif %}>\n",
    "    About\n",
    "  </a>\n",
    "</nav>"
   ]
  },
  {
   "cell_type": "markdown",
   "metadata": {},
   "source": [
    "查看http：// localhost：4000 并查看当前页面的红色链接。"
   ]
  },
  {
   "cell_type": "markdown",
   "metadata": {},
   "source": [
    "# Data Files"
   ]
  },
  {
   "cell_type": "markdown",
   "metadata": {},
   "source": [
    "Jekyll支持加载存储在_data的文件夹中的YAML、JSON和CSV格式的数据文件。将数据文件与源码分开可以使站点更容易维护。\n",
    "\n",
    "在这里导航的内容存储在数据文件中，然后在导航包含中迭代它。"
   ]
  },
  {
   "cell_type": "markdown",
   "metadata": {},
   "source": [
    "# Data file usage （数据文件使用）"
   ]
  },
  {
   "cell_type": "markdown",
   "metadata": {},
   "source": [
    "YAML是Ruby中常见的一种格式，用来存储一组导航项目，每个导航项目都带有名称和链接。\n",
    "\n",
    "创建**_data/navigation.yml**"
   ]
  },
  {
   "cell_type": "raw",
   "metadata": {},
   "source": [
    "- name: Home\n",
    "  link: /\n",
    "- name: About\n",
    "  link: /about.html"
   ]
  },
  {
   "cell_type": "markdown",
   "metadata": {},
   "source": [
    "Jekyll在site.data.navigation中提供这个数据文件，取代_includes/navigation.html输出每一个链接，现在你可以迭代这些数据文件而不是输出每个链接。"
   ]
  },
  {
   "cell_type": "raw",
   "metadata": {},
   "source": [
    "<nav>\n",
    "  {% for item in site.data.navigation %}\n",
    "    <a href=\"{{ item.link }}\" {% if page.url == item.link %}style=\"color: red;\"{% endif %}>\n",
    "      {{ item.name }}\n",
    "    </a>\n",
    "  {% endfor %}\n",
    "</nav>"
   ]
  },
  {
   "cell_type": "markdown",
   "metadata": {},
   "source": [
    "结果应该完全相同。 不同之处就是可以更容易添加新的导航项并更改HTML结构。"
   ]
  },
  {
   "cell_type": "markdown",
   "metadata": {},
   "source": [
    "# Assets "
   ]
  },
  {
   "cell_type": "markdown",
   "metadata": {},
   "source": [
    "jekyll可以直接使用CSS、JS、image和其他的assets。 将它们放在站点文件夹中，他们将复制到构建的站点中。\n",
    "jekyll网站通常使用这种结构来保持asset的结构："
   ]
  },
  {
   "cell_type": "raw",
   "metadata": {},
   "source": [
    ".\n",
    "├── assets\n",
    "|   ├── css\n",
    "|   ├── images\n",
    "|   └── js\n",
    "..."
   ]
  },
  {
   "cell_type": "markdown",
   "metadata": {},
   "source": [
    "# Sass"
   ]
  },
  {
   "cell_type": "markdown",
   "metadata": {},
   "source": [
    "使用的内联样式_includes/navigation.html不是最佳选择，让我们用类来设置当前页面的样式。"
   ]
  },
  {
   "cell_type": "raw",
   "metadata": {},
   "source": [
    "<nav>\n",
    "  {% for item in site.data.navigation %}\n",
    "    <a href=\"{{ item.link }}\" {% if page.url == item.link %}class=\"current\"{% endif %}>{{ item.name }}</a>\n",
    "  {% endfor %}\n",
    "</nav>"
   ]
  },
  {
   "cell_type": "markdown",
   "metadata": {},
   "source": [
    "可以使用标准CSS文件进行样式化，我们将使用Sass更进一步。Sass是对Jekyll的一个很棒的扩展。"
   ]
  },
  {
   "cell_type": "markdown",
   "metadata": {},
   "source": [
    "使用以下内容创建一个Sass文件/assets/css/styles.scss ："
   ]
  },
  {
   "cell_type": "raw",
   "metadata": {},
   "source": [
    "---\n",
    "---\n",
    "@import \"main\";"
   ]
  },
  {
   "cell_type": "markdown",
   "metadata": {},
   "source": [
    "顶部空的Front matter 高数jekyll需要处理的文件。 \n",
    "\n",
    "**@import \"main\";** 告诉Sass查找一个名为main.css的文件（默认情况下它是直接在网站的根文件夹的SASS目录下）\n",
    "\n",
    "在这个阶段，你将只有一个主css文件。对于较大的项目，这是保持CSS组织的好方法。"
   ]
  },
  {
   "cell_type": "markdown",
   "metadata": {},
   "source": [
    "Create a Sass file at /_sass/main.scss with the following content:\n",
    "\n",
    "    在/_sass/main.scss 创建一个Sass文件："
   ]
  },
  {
   "cell_type": "raw",
   "metadata": {},
   "source": [
    ".current {\n",
    "  color: green;\n",
    "}"
   ]
  },
  {
   "cell_type": "markdown",
   "metadata": {},
   "source": [
    "需要在布局中引用样式表。\n",
    "\n",
    "打开_layouts/default.html并将样式表添加到<head>："
   ]
  },
  {
   "cell_type": "raw",
   "metadata": {},
   "source": [
    "<!doctype html>\n",
    "<html>\n",
    "  <head>\n",
    "    <meta charset=\"utf-8\">\n",
    "    <title>{{ page.title }}</title>\n",
    "    <link rel=\"stylesheet\" href=\"/assets/css/styles.css\">\n",
    "  </head>\n",
    "  <body>\n",
    "    {% include navigation.html %}\n",
    "    {{ content }}\n",
    "  </body>\n",
    "</html>"
   ]
  },
  {
   "cell_type": "markdown",
   "metadata": {},
   "source": [
    "加载http：// localhost：4000 并检查导航中的活动链接是否为绿色。"
   ]
  },
  {
   "cell_type": "markdown",
   "metadata": {},
   "source": [
    "# 8. Blogging"
   ]
  },
  {
   "cell_type": "markdown",
   "metadata": {},
   "source": [
    "您可能想知道如何在没有数据库的情况下拥有博客。在真正的Jekyll风格中，博客仅由文本文件提供支持。"
   ]
  },
  {
   "cell_type": "markdown",
   "metadata": {},
   "source": [
    "# Posts"
   ]
  },
  {
   "cell_type": "markdown",
   "metadata": {},
   "source": [
    "博客文章位于名为的文件夹中_posts。帖子的文件名有一种特殊格式：发布日期，标题，后跟扩展名。\n",
    "\n",
    "_posts/2018-08-20-bananas.md使用以下内容创建您的第一篇文章"
   ]
  },
  {
   "cell_type": "raw",
   "metadata": {},
   "source": [
    "---\n",
    "layout: post\n",
    "author: jill\n",
    "---\n",
    "A banana is an edible fruit – botanically a berry – produced by several kinds\n",
    "of large herbaceous flowering plants in the genus Musa.\n",
    "\n",
    "In some countries, bananas used for cooking may be called \"plantains\",\n",
    "distinguishing them from dessert bananas. The fruit is variable in size, color,\n",
    "and firmness, but is usually elongated and curved, with soft flesh rich in\n",
    "starch covered with a rind, which may be green, yellow, red, purple, or brown\n",
    "when ripe."
   ]
  },
  {
   "cell_type": "markdown",
   "metadata": {},
   "source": [
    "这就像about.md之前创建的那样，除了它有一个作者和一个不同的布局。author是一个自定义变量，它不是必需的，可能被命名为creator。"
   ]
  },
  {
   "cell_type": "markdown",
   "metadata": {},
   "source": [
    "# Layout"
   ]
  },
  {
   "cell_type": "markdown",
   "metadata": {},
   "source": [
    "该post布局不存在，所以你需要在  _layouts/post.html 创建它，包含以下内容："
   ]
  },
  {
   "cell_type": "raw",
   "metadata": {},
   "source": [
    "---\n",
    "layout: default\n",
    "---\n",
    "<h1>{{ page.title }}</h1>\n",
    "<p>{{ page.date | date_to_string }} - {{ page.author }}</p>\n",
    "\n",
    "{{ content }}"
   ]
  },
  {
   "cell_type": "markdown",
   "metadata": {},
   "source": [
    "这是layout的又一个例子。post layout输出由默认布局包装的标题，日期，作者和内容正文。\n",
    "\n",
    "还要注意date_to_string过滤器，这会将日期格式化为更好的格式。"
   ]
  },
  {
   "cell_type": "markdown",
   "metadata": {},
   "source": [
    "# list posts"
   ]
  },
  {
   "cell_type": "markdown",
   "metadata": {},
   "source": [
    "目前无法导航到博文。通常，博客有一个列出所有帖子的页面，让我们接下来做。\n",
    "\n",
    "jekyll发布了一个帖子在site.posts\n",
    "\n",
    "在root（/blog.html）中创建blog.html："
   ]
  },
  {
   "cell_type": "raw",
   "metadata": {},
   "source": [
    "---\n",
    "layout: default\n",
    "title: Blog\n",
    "---\n",
    "<h1>Latest Posts</h1>\n",
    "\n",
    "<ul>\n",
    "  {% for post in site.posts %}\n",
    "    <li>\n",
    "      <h2><a href=\"{{ post.url }}\">{{ post.title }}</a></h2>\n",
    "      <p>{{ post.excerpt }}</p>\n",
    "    </li>\n",
    "  {% endfor %}\n",
    "</ul>"
   ]
  },
  {
   "cell_type": "markdown",
   "metadata": {},
   "source": [
    "这段代码有几点需要注意：\n",
    "\n",
    "    post.url 由Jekyll自动设置为帖子的输出路径\n",
    "    post.title是从文件名中提取的，可以通过设置title前面的内容来覆盖\n",
    "    post.excerpt 默认情况下是内容的第一段"
   ]
  },
  {
   "cell_type": "markdown",
   "metadata": {},
   "source": [
    "您还需要一种通过主导航导航到此页面的方法。打开 _data/navigation.yml并添加博客页面的条目："
   ]
  },
  {
   "cell_type": "raw",
   "metadata": {},
   "source": [
    "- name: Home\n",
    "  link: /\n",
    "- name: About\n",
    "  link: /about.html\n",
    "- name: Blog\n",
    "  link: /blog.html"
   ]
  },
  {
   "cell_type": "markdown",
   "metadata": {},
   "source": [
    "# More posts"
   ]
  },
  {
   "cell_type": "markdown",
   "metadata": {},
   "source": [
    "单个帖子的博客不是很令人兴奋。再添几个："
   ]
  },
  {
   "cell_type": "markdown",
   "metadata": {},
   "source": [
    "_posts/2018-08-21-apples.md："
   ]
  },
  {
   "cell_type": "raw",
   "metadata": {},
   "source": [
    "---\n",
    "layout: post\n",
    "author: jill\n",
    "---\n",
    "An apple is a sweet, edible fruit produced by an apple tree.\n",
    "\n",
    "Apple trees are cultivated worldwide, and are the most widely grown species in\n",
    "the genus Malus. The tree originated in Central Asia, where its wild ancestor,\n",
    "Malus sieversii, is still found today. Apples have been grown for thousands of\n",
    "years in Asia and Europe, and were brought to North America by European\n",
    "colonists."
   ]
  },
  {
   "cell_type": "markdown",
   "metadata": {},
   "source": [
    "_posts/2018-08-22-kiwifruit.md："
   ]
  },
  {
   "cell_type": "raw",
   "metadata": {},
   "source": [
    "---\n",
    "layout: post\n",
    "author: ted\n",
    "---\n",
    "Kiwifruit (often abbreviated as kiwi), or Chinese gooseberry is the edible\n",
    "berry of several species of woody vines in the genus Actinidia.\n",
    "\n",
    "The most common cultivar group of kiwifruit is oval, about the size of a large\n",
    "hen's egg (5–8 cm (2.0–3.1 in) in length and 4.5–5.5 cm (1.8–2.2 in) in\n",
    "diameter). It has a fibrous, dull greenish-brown skin and bright green or\n",
    "golden flesh with rows of tiny, black, edible seeds. The fruit has a soft\n",
    "texture, with a sweet and unique flavor."
   ]
  },
  {
   "cell_type": "markdown",
   "metadata": {},
   "source": [
    "打开http：// localhost：4000并查看您的博客文章。"
   ]
  },
  {
   "cell_type": "markdown",
   "metadata": {},
   "source": [
    "# 9 Collections"
   ]
  },
  {
   "cell_type": "markdown",
   "metadata": {},
   "source": [
    "设置属于自己的页面，其中包含一个简介和他们发布的帖子。\n",
    "\n",
    "为此，需要用到collection。 collection类似于帖子，但内容不必按日期分组。"
   ]
  },
  {
   "cell_type": "markdown",
   "metadata": {},
   "source": [
    "# Configuration （配置）"
   ]
  },
  {
   "cell_type": "markdown",
   "metadata": {},
   "source": [
    "Jekyll 设置一个Configuration，在一个名为_config.yml（默认情况下）：\n",
    "\n",
    "_config.yml使用以下内容在根目录中创建："
   ]
  },
  {
   "cell_type": "raw",
   "metadata": {},
   "source": [
    "collections:\n",
    "  authors:"
   ]
  },
  {
   "cell_type": "markdown",
   "metadata": {},
   "source": [
    "要（重新）加载配置，请重新启动jekyll服务器。在终端中按Ctrl+ C停止服务器，然后jekyll serve重新启动它。"
   ]
  },
  {
   "cell_type": "markdown",
   "metadata": {},
   "source": [
    "# Add authors"
   ]
  },
  {
   "cell_type": "markdown",
   "metadata": {},
   "source": [
    "文档（集合中的项目）位于名为的站点根目录中的文件夹中 _*collection_name*。在这种情况下，_authors。\n",
    "\n",
    "为每个作者创建一个文档：\n",
    "\n",
    "_authors/jill.md："
   ]
  },
  {
   "cell_type": "raw",
   "metadata": {},
   "source": [
    "---\n",
    "short_name: jill\n",
    "name: Jill Smith\n",
    "position: Chief Editor\n",
    "---\n",
    "Jill is an avid fruit grower based in the south of France."
   ]
  },
  {
   "cell_type": "markdown",
   "metadata": {},
   "source": [
    "_authors/ted.md："
   ]
  },
  {
   "cell_type": "raw",
   "metadata": {},
   "source": [
    "---\n",
    "short_name: ted\n",
    "name: Ted Doe\n",
    "position: Writer\n",
    "---\n",
    "Ted has been eating fruit since he was baby."
   ]
  },
  {
   "cell_type": "markdown",
   "metadata": {},
   "source": [
    "# Staff page"
   ]
  },
  {
   "cell_type": "markdown",
   "metadata": {},
   "source": [
    "让我们添加一个列出网站上所有作者的页面。Jekyll将这个系列提供给site.authors"
   ]
  },
  {
   "cell_type": "raw",
   "metadata": {},
   "source": [
    "---\n",
    "layout: default\n",
    "title: Staff\n",
    "---\n",
    "<h1>Staff</h1>\n",
    "\n",
    "<ul>\n",
    "  {% for author in site.authors %}\n",
    "    <li>\n",
    "      <h2>{{ author.name }}</h2>\n",
    "      <h3>{{ author.position }}</h3>\n",
    "      <p>{{ author.content | markdownify }}</p>\n",
    "    </li>\n",
    "  {% endfor %}\n",
    "</ul>"
   ]
  },
  {
   "cell_type": "markdown",
   "metadata": {},
   "source": [
    "由于内容是降价，您需要通过markdownify过滤器运行它 。{{ content }}在布局中输出时会自动发生这种情况 。\n",
    "\n",
    "您还需要一种通过主导航导航到此页面的方法。打开 _data/navigation.yml并为员工页面添加条目："
   ]
  },
  {
   "cell_type": "raw",
   "metadata": {},
   "source": [
    "- name: Home\n",
    "  link: /\n",
    "- name: About\n",
    "  link: /about.html\n",
    "- name: Blog\n",
    "  link: /blog.html\n",
    "- name: Staff\n",
    "  link: /staff.html"
   ]
  },
  {
   "cell_type": "markdown",
   "metadata": {},
   "source": [
    "# Output a page"
   ]
  },
  {
   "cell_type": "markdown",
   "metadata": {},
   "source": [
    "默认情况下，集合不会输出文档页面。在这种情况下，我们希望每个作者都有自己的页面，所以让我们调整集合配置。\n",
    "\n",
    "打开_config.yml并添加output: true到作者集合配置：\n",
    "    \n",
    "    "
   ]
  },
  {
   "cell_type": "raw",
   "metadata": {},
   "source": [
    "collections:\n",
    "  authors:\n",
    "    output: true"
   ]
  },
  {
   "cell_type": "markdown",
   "metadata": {},
   "source": [
    "您可以使用链接到输出页面author.url\n",
    "\n",
    "将链接添加到staff.html页面："
   ]
  },
  {
   "cell_type": "raw",
   "metadata": {},
   "source": [
    "---\n",
    "layout: default\n",
    "---\n",
    "<h1>Staff</h1>\n",
    "\n",
    "<ul>\n",
    "  {% for author in site.authors %}\n",
    "    <li>\n",
    "      <h2><a href=\"{{ author.url }}\">{{ author.name }}</a></h2>\n",
    "      <h3>{{ author.position }}</h3>\n",
    "      <p>{{ author.content | markdownify }}</p>\n",
    "    </li>\n",
    "  {% endfor %}\n",
    "</ul>"
   ]
  },
  {
   "cell_type": "markdown",
   "metadata": {},
   "source": [
    "就像你需要为作者创建布局一样。\n",
    "\n",
    "_layouts/author.html使用以下内容创建："
   ]
  },
  {
   "cell_type": "raw",
   "metadata": {},
   "source": [
    "---\n",
    "layout: default\n",
    "---\n",
    "<h1>{{ page.name }}</h1>\n",
    "<h2>{{ page.position }}</h2>\n",
    "\n",
    "{{ content }}"
   ]
  },
  {
   "cell_type": "markdown",
   "metadata": {},
   "source": [
    "# Front matter defaults"
   ]
  },
  {
   "cell_type": "markdown",
   "metadata": {},
   "source": [
    "现在，您需要配置作者文档以使用author布局。你可以像我们之前那样在前面的事情中做到这一点，但这会重复。\n",
    "\n",
    "\n",
    "你真正想要的是所有帖子自动拥有帖子布局，作者有作者和其他一切使用默认。\n",
    "\n",
    "\n",
    "您可以通过实现这个前面的问题的默认值 在_config.yml。您可以设置默认适用范围，然后是您想要的默认前端问题。\n",
    "\n",
    "\n",
    "添加布局的默认值_config.yml，"
   ]
  },
  {
   "cell_type": "raw",
   "metadata": {},
   "source": [
    "collections:\n",
    "  authors:\n",
    "    output: true\n",
    "\n",
    "defaults:\n",
    "  - scope:\n",
    "      path: \"\"\n",
    "      type: \"authors\"\n",
    "    values:\n",
    "      layout: \"author\"\n",
    "  - scope:\n",
    "      path: \"\"\n",
    "      type: \"posts\"\n",
    "    values:\n",
    "      layout: \"post\"\n",
    "  - scope:\n",
    "      path: \"\"\n",
    "    values:\n",
    "      layout: \"default\""
   ]
  },
  {
   "cell_type": "markdown",
   "metadata": {},
   "source": [
    "现在，您可以从所有页面和帖子的前端删除布局。\n",
    "\n",
    "请注意，_config.yml每次更新时，您都需要重新启动Jekyll才能使更改生效。"
   ]
  },
  {
   "cell_type": "markdown",
   "metadata": {},
   "source": [
    "# List author’s posts"
   ]
  },
  {
   "cell_type": "markdown",
   "metadata": {},
   "source": [
    "让我们列出作者在其页面上发布的帖子。为此，您需要将作者short_name与帖子匹配author。您可以使用它来按作者过滤帖子。\n",
    "\n",
    "迭代此筛选列表_layouts/author.html以输出作者的帖子："
   ]
  },
  {
   "cell_type": "raw",
   "metadata": {},
   "source": [
    "---\n",
    "layout: default\n",
    "---\n",
    "<h1>{{ page.name }}</h1>\n",
    "<h2>{{ page.position }}</h2>\n",
    "\n",
    "{{ content }}\n",
    "\n",
    "<h2>Posts</h2>\n",
    "<ul>\n",
    "  {% assign filtered_posts = site.posts | where: 'author', page.short_name %}\n",
    "  {% for post in filtered_posts %}\n",
    "    <li><a href=\"{{ post.url }}\">{{ post.title }}</a></li>\n",
    "  {% endfor %}\n",
    "</ul>"
   ]
  },
  {
   "cell_type": "markdown",
   "metadata": {},
   "source": [
    "# Link to authors page"
   ]
  },
  {
   "cell_type": "markdown",
   "metadata": {},
   "source": [
    "这些帖子引用了作者，所以我们将其链接到作者的页面。\n",
    "\n",
    "您可以使用类似的过滤技术执行此操作_layouts/post.html"
   ]
  },
  {
   "cell_type": "raw",
   "metadata": {},
   "source": [
    "---\n",
    "layout: default\n",
    "---\n",
    "<h1>{{ page.title }}</h1>\n",
    "\n",
    "<p>\n",
    "  {{ page.date | date_to_string }}\n",
    "  {% assign author = site.authors | where: 'short_name', page.author | first %}\n",
    "  {% if author %}\n",
    "    - <a href=\"{{ author.url }}\">{{ author.name }}</a>\n",
    "  {% endif %}\n",
    "</p>\n",
    "\n",
    "{{ content }}"
   ]
  },
  {
   "cell_type": "markdown",
   "metadata": {},
   "source": [
    "打开http：// localhost：4000并查看工作人员页面和帖子上的作者链接，以检查所有内容是否正确链接在一起。"
   ]
  },
  {
   "cell_type": "markdown",
   "metadata": {},
   "source": [
    "# 10. Deployment"
   ]
  },
  {
   "cell_type": "markdown",
   "metadata": {},
   "source": [
    "为您的网站提供Gemfile是一种很好的做法。这确保了Jekyll和其他宝石的版本在不同环境中保持一致。\n",
    "\n",
    "Gemfile使用以下内容在根目录中创建："
   ]
  },
  {
   "cell_type": "raw",
   "metadata": {},
   "source": [
    "source 'https://rubygems.org'\n",
    "\n",
    "gem 'jekyll'"
   ]
  },
  {
   "cell_type": "markdown",
   "metadata": {},
   "source": [
    "然后bundle install在你的终端上运行。这将安装gems并创建Gemfile.lock锁定当前gem版本以供将来使用  bundle install。如果您想要更新您的gem版本，您可以运行  bundle update。\n",
    "\n",
    "使用a时Gemfile，您将运行jekyll serve与  bundle exec前缀相同的命令。所以完整的命令是："
   ]
  },
  {
   "cell_type": "raw",
   "metadata": {},
   "source": [
    "bundle exec jekyll serve"
   ]
  },
  {
   "cell_type": "markdown",
   "metadata": {},
   "source": [
    "# Plugins （插件）"
   ]
  },
  {
   "cell_type": "markdown",
   "metadata": {},
   "source": [
    "Jekyll插件允许您创建特定于您网站的自定义生成内容。有很多可用的插件，你甚至可以编写自己的插件。    \n",
    "    \n",
    "    jekyll-sitemap - 创建站点地图文件以帮助搜索引擎索引内容\n",
    "    jekyll-feed - 为您的帖子创建RSS源\n",
    "    jekyll-seo-tag - 添加元标记以帮助SEO\n",
    "    \n",
    "要先使用它们，您需要将它们添加到您的Gemfile。如果你把它们放在一个jekyll_plugins组中，它们将自动被要求进入Jekyll："
   ]
  },
  {
   "cell_type": "raw",
   "metadata": {},
   "source": [
    "source 'https://rubygems.org'\n",
    "\n",
    "gem 'jekyll'\n",
    "\n",
    "group :jekyll_plugins do\n",
    "  gem 'jekyll-sitemap'\n",
    "  gem 'jekyll-feed'\n",
    "  gem 'jekyll-seo-tag'\n",
    "end"
   ]
  },
  {
   "cell_type": "markdown",
   "metadata": {},
   "source": [
    "然后将这些行添加到您的_config.yml："
   ]
  },
  {
   "cell_type": "markdown",
   "metadata": {},
   "source": [
    "plugins:\n",
    "  - jekyll-feed\n",
    "  - jekyll-sitemap\n",
    "  - jekyll-seo-tag"
   ]
  },
  {
   "cell_type": "markdown",
   "metadata": {},
   "source": [
    "现在通过运行安装它们bundle update。\n",
    "\n",
    "jekyll-sitemap 不需要任何设置，它将在构建时创建您的站点地图。\n",
    "\n",
    "对于jekyll-feed和jekyll-seo-tag你需要添加标签\n",
    "\n",
    "_layouts/default.html："
   ]
  },
  {
   "cell_type": "raw",
   "metadata": {},
   "source": [
    "<!doctype html>\n",
    "<html>\n",
    "  <head>\n",
    "    <meta charset=\"utf-8\">\n",
    "    <title>{{ page.title }}</title>\n",
    "    <link rel=\"stylesheet\" href=\"/assets/css/styles.css\">\n",
    "    {% feed_meta %}\n",
    "    {% seo %}\n",
    "  </head>\n",
    "  <body>\n",
    "    {% include navigation.html %}\n",
    "    {{ content }}\n",
    "  </body>\n",
    "</html>"
   ]
  },
  {
   "cell_type": "markdown",
   "metadata": {},
   "source": [
    "重新启动您的Jekyll服务器并检查这些标签是否已添加到<head>"
   ]
  },
  {
   "cell_type": "code",
   "execution_count": null,
   "metadata": {},
   "outputs": [],
   "source": []
  }
 ],
 "metadata": {
  "kernelspec": {
   "display_name": "Python 3",
   "language": "python",
   "name": "python3"
  },
  "language_info": {
   "codemirror_mode": {
    "name": "ipython",
    "version": 3
   },
   "file_extension": ".py",
   "mimetype": "text/x-python",
   "name": "python",
   "nbconvert_exporter": "python",
   "pygments_lexer": "ipython3",
   "version": "3.7.1"
  }
 },
 "nbformat": 4,
 "nbformat_minor": 2
}
